{
 "cells": [
  {
   "cell_type": "code",
   "execution_count": 1,
   "metadata": {},
   "outputs": [],
   "source": [
    "from selenium import webdriver\n",
    "from selenium.webdriver.chrome.options import Options\n",
    "from selenium.webdriver.common.keys import Keys\n",
    "from selenium.webdriver.common.by import By  #By來定位元素 \n",
    "from bs4 import BeautifulSoup\n",
    "import requests\n",
    "import time"
   ]
  },
  {
   "cell_type": "code",
   "execution_count": 2,
   "metadata": {},
   "outputs": [
    {
     "name": "stderr",
     "output_type": "stream",
     "text": [
      "C:\\Users\\USER\\anaconda3\\lib\\site-packages\\ipykernel_launcher.py:5: DeprecationWarning: use options instead of chrome_options\n",
      "  \"\"\"\n"
     ]
    }
   ],
   "source": [
    "options=Options()\n",
    "#options.add_argument('--disable-notification')\n",
    "options.add_argument(r'--user-data-dir=C:\\Users\\USER\\AppData\\Local\\Google\\Chrome\\User Data1')  #r代表后面的字符串斜杠不转义\n",
    "#讓你使用固定的chorme\n",
    "driver=webdriver.Chrome(\"chromedriver\",0,chrome_options=options)\n",
    "actions=webdriver.ActionChains(driver)\n",
    "driver.get('http://www6565.eyny.com/member.php?mod=logging&action=login')  #打開網站\n",
    "#username='kilina'\n",
    "password='km850531'\n",
    "#driver.find_element_by_name(\"username\").send_keys(username)  #帳號存在cookie了\n",
    "driver.find_element_by_name(\"password\").send_keys(password)\n",
    "driver.find_element_by_name(\"password\").submit()\n",
    "time.sleep(5)\n"
   ]
  },
  {
   "cell_type": "code",
   "execution_count": 10,
   "metadata": {},
   "outputs": [],
   "source": [
    "def download_video():\n",
    "    url=input('清輸入影片的網址:')\n",
    "    driver.get(url)\n",
    "    #http://www07.eyny.com/thread-12146979-1-1.html  \n",
    "    driver.find_element_by_xpath('//form[input/@name=\"submit\"]').click()  #相對位置，目前下載完一部後用#框起\n",
    "    time.sleep(5)  #讓網頁加載，使後面的程式碼不會讀取到網頁加載之間，造成讀取失敗\n",
    "    driver.find_element_by_link_text('載點').click()"
   ]
  },
  {
   "cell_type": "code",
   "execution_count": 4,
   "metadata": {},
   "outputs": [],
   "source": [
    "def open_mega():\n",
    "    driver=webdriver.Chrome(\"chromedriver\",0,chrome_options=options)\n",
    "    driver.get('https://mega.nz')\n",
    "    driver.find_element_by_css_selector('a.default-white-button').click()\n",
    "    driver.find_element_by_link_text('登入').click()\n",
    "    name='km19962@yahoo.co0m.tw' \n",
    "    password='Km850531+'\n",
    "    driver.find_element_by_id('login-name').send_keys('name')\n",
    "    driver.find_element_by_id('login-password').send_keys('password')\n",
    "    driver.find_element_by_id('login-password').submit()"
   ]
  },
  {
   "cell_type": "code",
   "execution_count": 44,
   "metadata": {},
   "outputs": [
    {
     "name": "stderr",
     "output_type": "stream",
     "text": [
      "C:\\Users\\USER\\anaconda3\\lib\\site-packages\\ipykernel_launcher.py:1: DeprecationWarning: use options instead of chrome_options\n",
      "  \"\"\"Entry point for launching an IPython kernel.\n"
     ]
    },
    {
     "name": "stdout",
     "output_type": "stream",
     "text": [
      "清輸入影片的網址:http://www.eyny.com/thread-12132373-1-1.html\n"
     ]
    }
   ],
   "source": [
    "driver=webdriver.Chrome(\"chromedriver\",0,chrome_options=options)"
   ]
  },
  {
   "cell_type": "code",
   "execution_count": 5,
   "metadata": {},
   "outputs": [],
   "source": [
    "#driver.find_element_by_xpath('//a[@class=\"data-block-view\"]').click()\n",
    "#driver.find_element_by_xpath('//a[@title=\"1920x1080\"]').click()\n"
   ]
  },
  {
   "cell_type": "code",
   "execution_count": 11,
   "metadata": {
    "scrolled": true
   },
   "outputs": [
    {
     "name": "stdout",
     "output_type": "stream",
     "text": [
      "清輸入影片的網址:http://www07.eyny.com/thread-12146979-1-1.html\n"
     ]
    }
   ],
   "source": [
    "download_video()"
   ]
  },
  {
   "cell_type": "code",
   "execution_count": null,
   "metadata": {},
   "outputs": [],
   "source": []
  }
 ],
 "metadata": {
  "kernelspec": {
   "display_name": "Python 3",
   "language": "python",
   "name": "python3"
  },
  "language_info": {
   "codemirror_mode": {
    "name": "ipython",
    "version": 3
   },
   "file_extension": ".py",
   "mimetype": "text/x-python",
   "name": "python",
   "nbconvert_exporter": "python",
   "pygments_lexer": "ipython3",
   "version": "3.8.5"
  }
 },
 "nbformat": 4,
 "nbformat_minor": 4
}
