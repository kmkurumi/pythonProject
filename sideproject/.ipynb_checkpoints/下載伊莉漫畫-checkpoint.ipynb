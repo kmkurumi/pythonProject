{
 "cells": [
  {
   "cell_type": "code",
   "execution_count": 1,
   "metadata": {},
   "outputs": [],
   "source": [
    "from selenium import webdriver\n",
    "from selenium.webdriver.chrome.options import Options\n",
    "from selenium.webdriver.common.keys import Keys\n",
    "from selenium.webdriver.common.by import By  #By來定位元素 \n",
    "from bs4 import BeautifulSoup\n",
    "import requests\n",
    "import time\n",
    "from PIL import Image\n",
    "import matplotlib.pyplot as plt\n",
    "import os"
   ]
  },
  {
   "cell_type": "code",
   "execution_count": 5,
   "metadata": {
    "scrolled": false
   },
   "outputs": [
    {
     "name": "stderr",
     "output_type": "stream",
     "text": [
      "C:\\Users\\USER\\anaconda3\\lib\\site-packages\\ipykernel_launcher.py:5: DeprecationWarning: use options instead of chrome_options\n",
      "  \"\"\"\n"
     ]
    }
   ],
   "source": [
    "options=Options()\n",
    "#options.add_argument('--disable-notification')\n",
    "options.add_argument(r'--user-data-dir=C:\\Users\\USER\\AppData\\Local\\Google\\Chrome\\User Data1')  #r代表后面的字符串斜杠不转义\n",
    "\n",
    "driver=webdriver.Chrome(\"chromedriver\",0,chrome_options=options)\n",
    "actions=webdriver.ActionChains(driver)\n",
    "driver.get('http://www6565.eyny.com/member.php?mod=logging&action=login')  #打開網站\n",
    "username='kilina'\n",
    "password='km850531'\n",
    "driver.find_element_by_name(\"username\").send_keys(username)  #帳號存在cookie了\n",
    "driver.find_element_by_name(\"password\").send_keys(password)\n",
    "driver.find_element_by_name(\"password\").submit()\n",
    "time.sleep(5)\n",
    "\n",
    "#element=driver.find_element_by_link_text('中文H漫畫貼圖')\n",
    "#actions.move_to_element(element)  \n",
    "#actions.click()\n",
    "#actions.perform()\n",
    "#driver.get(driver.current_url)\n",
    "#time.sleep(5)\n",
    "#element1=driver.find_element_by_link_text('日文H漫畫貼圖')\n",
    "#actions.move_to_element(element1).perform() \n",
    "#actions.click().perform()"
   ]
  },
  {
   "cell_type": "code",
   "execution_count": 10,
   "metadata": {},
   "outputs": [],
   "source": [
    "def manga_input():\n",
    "    url=input('清輸入漫畫的網址:')\n",
    "    driver.get(url)\n",
    "    driver.find_element_by_xpath('//form[input/@name=\"submit\"]').click()  #相對位置，目前下載完一部後用#框起\n",
    "    time.sleep(5)  #讓網頁加載，使後面的程式碼不會讀取到網頁加載之間，造成讀取失敗"
   ]
  },
  {
   "cell_type": "code",
   "execution_count": 7,
   "metadata": {},
   "outputs": [],
   "source": [
    "def manga_title(name):\n",
    "    manga_name=name.replace('- 中文H漫畫貼圖 - 伊莉討論區','')\n",
    "    manga_name=manga_name.replace('[','')\n",
    "    manga_name=manga_name.replace(']','')\n",
    "    manga_name=manga_name.replace('?','')  ##問號(?)不可以作為圖片檔名\n",
    "    manga_name=manga_name.replace('!','')\n",
    "    manga_name=manga_name.replace('。','')\n",
    "    manga_name=manga_name.replace('/','之')  #避免1/2之類的'/'，導致多一層資料夾\n",
    "    manga_name=manga_name.strip()  \n",
    "    print(manga_name)\n",
    "    return manga_name"
   ]
  },
  {
   "cell_type": "code",
   "execution_count": 8,
   "metadata": {},
   "outputs": [],
   "source": [
    "def manga_search():\n",
    "    #如果有問題請到這裡加 style=\"cursor:pointer\" or style=\"cursor: pointer...\n",
    "    soup = BeautifulSoup(driver.page_source,'lxml')   #爬頁面源碼  \n",
    "    picture=soup.find_all('img',style=\"cursor: pointer;\")  #(CSS語法)cursor屬性可以改變滑鼠游標的形狀\n",
    "    if len(str(picture))==2:  #如果讀取不到，str(picture)='[]'\n",
    "        picture=soup.find_all('img',style=\"cursor:pointer\")\n",
    "    else:\n",
    "        picture=soup.find_all('img',style=\"cursor: pointer;\") \n",
    "    return picture "
   ]
  },
  {
   "cell_type": "code",
   "execution_count": 9,
   "metadata": {},
   "outputs": [],
   "source": [
    "manga_mkdir(manga_name):\n",
    "    if os.path.exists('C:/Users/USER/Desktop/漫畫/'+manga_name):\n",
    "        print(manga_name+'>>>已建立')\n",
    "    else:\n",
    "        os.makedirs('C:/Users/USER/Desktop/漫畫/'+manga_name)\n",
    "    time.sleep(3)"
   ]
  },
  {
   "cell_type": "code",
   "execution_count": 11,
   "metadata": {},
   "outputs": [],
   "source": [
    "def manga_download(picture,manga_name):\n",
    "    image_link=[pictures.get('src') for pictures in picture]  #get('src'):取出節點屬性，轉成list屬性\n",
    "    for i in range(len(picture)):\n",
    "        res = requests.get(image_link[i])\n",
    "        with open('C:/Users/USER/Desktop/漫畫/'+manga_name+'/'+manga_name+'-'+str(i+1)+'.png','wb') as f:  \n",
    "            f.write(res.content)      "
   ]
  },
  {
   "cell_type": "code",
   "execution_count": 12,
   "metadata": {},
   "outputs": [
    {
     "name": "stdout",
     "output_type": "stream",
     "text": [
      "清輸入漫畫的網址:http://www5665.eyny.com/thread-13021622-1-3DN3CFFH.html\n",
      "HamaoOver\n",
      "HamaoOver\n",
      "HamaoOver\n"
     ]
    }
   ],
   "source": [
    "manga_input()\n",
    "manga_title(driver.title)\n",
    "manga_search()\n",
    "manga_mkdir(manga_title(driver.title))\n",
    "manga_download(manga_search(),manga_title(driver.title))\n"
   ]
  },
  {
   "cell_type": "code",
   "execution_count": null,
   "metadata": {},
   "outputs": [],
   "source": []
  },
  {
   "cell_type": "code",
   "execution_count": null,
   "metadata": {},
   "outputs": [],
   "source": []
  }
 ],
 "metadata": {
  "kernelspec": {
   "display_name": "Python 3",
   "language": "python",
   "name": "python3"
  },
  "language_info": {
   "codemirror_mode": {
    "name": "ipython",
    "version": 3
   },
   "file_extension": ".py",
   "mimetype": "text/x-python",
   "name": "python",
   "nbconvert_exporter": "python",
   "pygments_lexer": "ipython3",
   "version": "3.8.5"
  }
 },
 "nbformat": 4,
 "nbformat_minor": 4
}
