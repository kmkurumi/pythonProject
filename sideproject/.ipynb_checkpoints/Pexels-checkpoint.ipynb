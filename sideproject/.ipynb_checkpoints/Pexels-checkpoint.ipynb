{
 "cells": [
  {
   "cell_type": "code",
   "execution_count": 1,
   "metadata": {},
   "outputs": [],
   "source": [
    "import requests\n",
    "from lxml import etree\n",
    "import re\n",
    "import time\n",
    "from bs4 import BeautifulSoup"
   ]
  },
  {
   "cell_type": "code",
   "execution_count": 3,
   "metadata": {},
   "outputs": [],
   "source": [
    "headers = {\n",
    "    'User-Agent': 'Mozilla/5.0 (Windows NT 10.0; Win64; x64) AppleWebKit/537.36 (KHTML, like Gecko) Chrome/67.0.3396.79 Safari/537.36'\n",
    "}\n",
    "url = 'https://www.pexels.com/search/japan/'\n",
    "\n",
    "if __name__ == '__main__':\n",
    "    res = requests.get(url, headers)\n",
    "    selector = etree.HTML(res.text)\n",
    "    xml_links = selector.xpath('//article/a[2]/@href')  # lxml\n",
    "    bs4_links = []\n",
    "    soup = BeautifulSoup(res.text, \"html.parser\")\n",
    "    links = soup.select('article > a ')\n",
    "    for link in links:\n",
    "        bs4_links.append(link.get('href'))  # bs4\n",
    "    re_links = re.findall('<a href=\\\"(.*)\\\" download>', res.text)  # re\n",
    "    for link in links:\n",
    "        pic = requests.get(link, headers)\n",
    "        pic_name = re.search('(?<=&dl=).*\\.jpg', link).group()\n",
    "        with open('d:/1/' + pic_name, 'wb') as pf:\n",
    "            pf.write(pic.content) #以二进制流方式写入文件\n",
    "        print(\"完成图片下载:\" + pic_name)\n",
    "        time.sleep(1)  # 缓冲\n"
   ]
  },
  {
   "cell_type": "code",
   "execution_count": null,
   "metadata": {},
   "outputs": [],
   "source": []
  }
 ],
 "metadata": {
  "kernelspec": {
   "display_name": "Python 3",
   "language": "python",
   "name": "python3"
  },
  "language_info": {
   "codemirror_mode": {
    "name": "ipython",
    "version": 3
   },
   "file_extension": ".py",
   "mimetype": "text/x-python",
   "name": "python",
   "nbconvert_exporter": "python",
   "pygments_lexer": "ipython3",
   "version": "3.7.6"
  }
 },
 "nbformat": 4,
 "nbformat_minor": 4
}
