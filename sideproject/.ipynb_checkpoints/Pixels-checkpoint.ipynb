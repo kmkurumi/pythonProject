{
 "cells": [
  {
   "cell_type": "code",
   "execution_count": 1,
   "metadata": {},
   "outputs": [],
   "source": [
    "import requests\n",
    "from bs4 import BeautifulSoup\n",
    " \n",
    "headers ={\n",
    "    'accept':'text/html,application/xhtml+xml,application/xml;q=0.9,image/webp,*/*;q=0.8',\n",
    "    'User-Agent':'Mozilla/5.0 (Windows NT 10.0; Win64; x64) AppleWebKit/537.36 (KHTML, like Gecko) Chrome/76.0.3809.132 Safari/537.36'\n",
    "    }\n",
    " \n",
    "urls = [f'https://www.pexels.com/search/cat/?page=%d'.format(str(i)) for i in range(1,20)]\n",
    " \n",
    "list = []        #初始化列表，存储图片URLS\n",
    " \n",
    "path = 'C:/Users/USER/Desktop/pexel'\n",
    " \n",
    "for url in urls:\n",
    "    try:\n",
    "        wb_data = requests.get(url, headers = headers)\n",
    "        soul = BeautifulSoup(wb_data.text, 'lxml')\n",
    "        imgs = soul.select('article > a > img')\n",
    "        for img in imgs:\n",
    "            photo = img.get('src')\n",
    "            list.append(photo)\n",
    "            print('加载成功')\n",
    "    except ConnectionError:\n",
    "        print('pass disappoint')\n",
    "        \n",
    "        \n",
    "    \n",
    "for item in list:\n",
    "    try:\n",
    "        data = requests.get(item, headers = headers)\n",
    "        fp = open(path + item.split('?')[0][-10:], 'wb')\n",
    "        fp.write(data.content)\n",
    "        fp.close\n",
    "        print('下载成功')\n",
    "    except ConnectionError:\n",
    "        print('pass')"
   ]
  },
  {
   "cell_type": "code",
   "execution_count": 6,
   "metadata": {},
   "outputs": [
    {
     "name": "stdout",
     "output_type": "stream",
     "text": [
      "總用時: 0.39603090286254883\n"
     ]
    }
   ],
   "source": [
    "import requests\n",
    "import re\n",
    "import time\n",
    "\n",
    "headers = {\n",
    "    'User-Agent': 'Mozilla/5.0 (Windows NT 10.0; Win64; x64) AppleWebKit/537.36 (KHTML, like Gecko) Chrome/76.0.3809.132 Safari/537.36'\n",
    "}\n",
    "#href=\"/photo/animal-dog-pet-cute-4214919/\"\n",
    "\n",
    "#srcset=\"https://images.pexels.com/photos/4214919/pexels-photo-4214919.jpeg\n",
    "def pic_scratch(url):\n",
    "    res = requests.get(url, headers)\n",
    "    links = re.findall('<a href=\"/(.*)/\">', res.text)\n",
    "    for link in links:\n",
    "        pic = requests.get(link, headers)\n",
    "        pic_name = re.search('/.*.jpeg', link).group()\n",
    "        with open(pic_name, 'wb') as pf:\n",
    "            pf.write(pic.content)\n",
    "        print(\"完成圖片下載:\" + pic_name)\n",
    "\n",
    "\n",
    "if __name__ == '__main__':\n",
    "    start_time = time.time()\n",
    "    urls = ['https://www.pexels.com/search/cat/?page=={}'.format(i) for i in range(1, 7)]\n",
    "    for url in urls:\n",
    "        pic_scratch(url)\n",
    "    end_time = time.time()\n",
    "    print(\"總用時:\", end_time - start_time)"
   ]
  },
  {
   "cell_type": "code",
   "execution_count": 30,
   "metadata": {},
   "outputs": [
    {
     "name": "stdout",
     "output_type": "stream",
     "text": [
      "Note: you may need to restart the kernel to use updated packages.\n"
     ]
    },
    {
     "name": "stderr",
     "output_type": "stream",
     "text": [
      "ERROR: Could not find a version that satisfies the requirement urllib2 (from versions: none)\n",
      "ERROR: No matching distribution found for urllib2\n",
      "WARNING: You are using pip version 21.1.1; however, version 21.1.2 is available.\n",
      "You should consider upgrading via the 'C:\\Users\\USER\\anaconda3\\python.exe -m pip install --upgrade pip' command.\n"
     ]
    }
   ],
   "source": [
    "pip install urllib2\n"
   ]
  },
  {
   "cell_type": "code",
   "execution_count": 28,
   "metadata": {},
   "outputs": [
    {
     "ename": "ModuleNotFoundError",
     "evalue": "No module named 'urllib2'",
     "output_type": "error",
     "traceback": [
      "\u001b[1;31m---------------------------------------------------------------------------\u001b[0m",
      "\u001b[1;31mModuleNotFoundError\u001b[0m                       Traceback (most recent call last)",
      "\u001b[1;32m<ipython-input-28-98fd78c871bb>\u001b[0m in \u001b[0;36m<module>\u001b[1;34m\u001b[0m\n\u001b[0;32m      1\u001b[0m \u001b[1;32mimport\u001b[0m \u001b[0mrequests\u001b[0m\u001b[1;33m\u001b[0m\u001b[1;33m\u001b[0m\u001b[0m\n\u001b[0;32m      2\u001b[0m \u001b[1;32mfrom\u001b[0m \u001b[0mbs4\u001b[0m \u001b[1;32mimport\u001b[0m \u001b[0mBeautifulSoup\u001b[0m\u001b[1;33m\u001b[0m\u001b[1;33m\u001b[0m\u001b[0m\n\u001b[1;32m----> 3\u001b[1;33m \u001b[1;32mimport\u001b[0m \u001b[0murllib2\u001b[0m\u001b[1;33m\u001b[0m\u001b[1;33m\u001b[0m\u001b[0m\n\u001b[0m\u001b[0;32m      4\u001b[0m \u001b[1;33m\u001b[0m\u001b[0m\n\u001b[0;32m      5\u001b[0m headers=[\"Mozilla/5.0 (Windows NT 6.3; WOW64) AppleWebKit/537.36 (KHTML, like Gecko) Chrome/39.0.2171.95 Safari/537.36\",\n",
      "\u001b[1;31mModuleNotFoundError\u001b[0m: No module named 'urllib2'"
     ]
    }
   ],
   "source": [
    "import requests\n",
    "from bs4 import BeautifulSoup\n",
    "import urllib2\n",
    "\n",
    "headers=[\"Mozilla/5.0 (Windows NT 6.3; WOW64) AppleWebKit/537.36 (KHTML, like Gecko) Chrome/39.0.2171.95 Safari/537.36\",\n",
    "\"Mozilla/5.0 (Macintosh; Intel Mac OS X 10_9_2) AppleWebKit/537.36 (KHTML, like Gecko) Chrome/35.0.1916.153 Safari/537.36\",\n",
    "\"Mozilla/5.0 (Windows NT 6.1; WOW64; rv:30.0) Gecko/20100101 Firefox/30.0\"\n",
    "\"Mozilla/5.0 (Macintosh; Intel Mac OS X 10_9_2) AppleWebKit/537.75.14 (KHTML, like Gecko) Version/7.0.3 Safari/537.75.14\",\n",
    "\"Mozilla/5.0 (compatible; MSIE 10.0; Windows NT 6.2; Win64; x64; Trident/6.0)\"]\n",
    "\n",
    "            \n",
    "url=\"https://www.pexels.com/search/cat/?page==3\"\n",
    "randdom_header=random.choice(headers)\n",
    "req=urllib2.Request(url)\n",
    "req.add_header(\"User-Agent\",randdom_header)\n",
    "# req.add_header(\"Host\",\"blog.csdn.net\")\n",
    "# req.add_header(\"Referer\",\"http://blog.csdn.net/\")\n",
    "req.add_header(\"GET\",url)\n",
    "req\n",
    "\n",
    "\n",
    "\n",
    "# headers = {\n",
    "#     'accept':'text/html,application/xhtml+xml,application/xml;q=0.9,image/webp,*/*;q=0.8',\n",
    "#     'User-Agent': 'Mozilla/5.0 (Windows NT 10.0; Win64; x64) AppleWebKit/537.36 (KHTML, like Gecko) Chrome/76.0.3809.132 Safari/537.36'\n",
    "# }\n",
    "# res = requests.get(\"https://www.pexels.com/search/cat/?page==3\", headers) #\n",
    "# res\n",
    "\n",
    "\n",
    "\n",
    "# soup = BeautifulSoup(res.text, 'lxml')\n",
    "# link = soup.find_all(\"a\",class_=\"js-photo-link photo-item__link\")\n",
    "# print(link)\n",
    "\n",
    "\n",
    "\n",
    "#links = re.findall('href=\\\".*\\\">', res.text)\n",
    "#links\n",
    "#     for link in links:\n",
    "#         pic = requests.get(link, headers)\n",
    "#         pic_name = re.search('/.*.jpeg', link).group()\n",
    "#         with open(pic_name, 'wb') as pf:\n",
    "#             pf.write(pic.content)\n",
    "#         print(\"完成圖片下載:\" + pic_name)\n"
   ]
  },
  {
   "cell_type": "code",
   "execution_count": null,
   "metadata": {},
   "outputs": [],
   "source": []
  }
 ],
 "metadata": {
  "kernelspec": {
   "display_name": "Python 3",
   "language": "python",
   "name": "python3"
  },
  "language_info": {
   "codemirror_mode": {
    "name": "ipython",
    "version": 3
   },
   "file_extension": ".py",
   "mimetype": "text/x-python",
   "name": "python",
   "nbconvert_exporter": "python",
   "pygments_lexer": "ipython3",
   "version": "3.8.5"
  }
 },
 "nbformat": 4,
 "nbformat_minor": 4
}
