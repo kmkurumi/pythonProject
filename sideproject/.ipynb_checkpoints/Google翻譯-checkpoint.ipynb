{
 "cells": [
  {
   "cell_type": "code",
   "execution_count": 1,
   "metadata": {},
   "outputs": [],
   "source": [
    "import selenium \n",
    "from selenium import webdriver \n",
    "from selenium.webdriver.chrome.options import Options\n",
    "from selenium.webdriver.common.keys import Keys"
   ]
  },
  {
   "cell_type": "code",
   "execution_count": 2,
   "metadata": {},
   "outputs": [
    {
     "name": "stderr",
     "output_type": "stream",
     "text": [
      "C:\\Users\\USER\\anaconda3\\lib\\site-packages\\ipykernel_launcher.py:4: DeprecationWarning: use options instead of chrome_options\n",
      "  after removing the cwd from sys.path.\n"
     ]
    }
   ],
   "source": [
    "Options().add_argument('--disable-notification')\n",
    "Options().add_argument(r'--user-data-dir=C:\\Users\\USER\\AppData\\Local\\Google\\Chrome\\User Data1')  #r代表后面的字符串斜杠不转义\n",
    "\n",
    "driver=webdriver.Chrome(\"chromedriver\",0,chrome_options=Options())\n",
    "actions=webdriver.ActionChains(driver)\n"
   ]
  },
  {
   "cell_type": "code",
   "execution_count": null,
   "metadata": {},
   "outputs": [],
   "source": [
    "def ch_translate to_eh():\n",
    "    word=input('請輸入想翻譯的文字')\n",
    "    url='https://translate.google.com.tw/?hl=zh-TW&sl=zh-CN&tl=en'\n",
    "    driver.get(url)\n",
    "    Keys.send_keys(Keys.CONTROL,'c')\n",
    "    driver.find_element_by_\n"
   ]
  }
 ],
 "metadata": {
  "kernelspec": {
   "display_name": "Python 3",
   "language": "python",
   "name": "python3"
  },
  "language_info": {
   "codemirror_mode": {
    "name": "ipython",
    "version": 3
   },
   "file_extension": ".py",
   "mimetype": "text/x-python",
   "name": "python",
   "nbconvert_exporter": "python",
   "pygments_lexer": "ipython3",
   "version": "3.8.5"
  }
 },
 "nbformat": 4,
 "nbformat_minor": 4
}
