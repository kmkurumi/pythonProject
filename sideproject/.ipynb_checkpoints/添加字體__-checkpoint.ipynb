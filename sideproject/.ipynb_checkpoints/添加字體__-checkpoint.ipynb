{
 "cells": [
  {
   "cell_type": "code",
   "execution_count": 1,
   "metadata": {},
   "outputs": [],
   "source": [
    "import matplotlib\n",
    "import matplotlib.font_manager\n",
    "from matplotlib import pyplot as plt\n",
    "import re"
   ]
  },
  {
   "cell_type": "code",
   "execution_count": 2,
   "metadata": {},
   "outputs": [
    {
     "data": {
      "text/plain": [
       "'C:\\\\Users\\\\USER\\\\anaconda3\\\\lib\\\\site-packages\\\\matplotlib\\\\mpl-data\\\\matplotlibrc'"
      ]
     },
     "execution_count": 2,
     "metadata": {},
     "output_type": "execute_result"
    }
   ],
   "source": [
    "matplotlib.matplotlib_fname()"
   ]
  },
  {
   "cell_type": "code",
   "execution_count": 7,
   "metadata": {
    "scrolled": true
   },
   "outputs": [
    {
     "name": "stdout",
     "output_type": "stream",
     "text": [
      "['sans-serif']\n",
      "['AR PL UMing CN', 'TaipeiSansTCBeta-Regular', 'Microsoft JhengHei', 'DejaVu Sans', 'Bitstream Vera Sans', 'Computer Modern Sans Serif', 'Lucida Grande', 'Verdana', 'Geneva', 'Lucid', 'Arial', 'Helvetica', 'Avant Garde', 'sans-serif']\n"
     ]
    }
   ],
   "source": [
    "print(plt.rcParams[ 'font.family'])  # 'font.family'，前面要空一格\n",
    "print(plt.rcParams['font.sans-serif'])"
   ]
  },
  {
   "cell_type": "code",
   "execution_count": 8,
   "metadata": {},
   "outputs": [
    {
     "ename": "NameError",
     "evalue": "name 'mpl' is not defined",
     "output_type": "error",
     "traceback": [
      "\u001b[1;31m---------------------------------------------------------------------------\u001b[0m",
      "\u001b[1;31mNameError\u001b[0m                                 Traceback (most recent call last)",
      "\u001b[1;32m<ipython-input-8-a8e229b75602>\u001b[0m in \u001b[0;36m<module>\u001b[1;34m\u001b[0m\n\u001b[1;32m----> 1\u001b[1;33m \u001b[0mmpl\u001b[0m\u001b[1;33m.\u001b[0m\u001b[0mfont_manager\u001b[0m\u001b[1;33m.\u001b[0m\u001b[0mfontManager\u001b[0m\u001b[1;33m.\u001b[0m\u001b[0mttflist\u001b[0m\u001b[1;33m\u001b[0m\u001b[1;33m\u001b[0m\u001b[0m\n\u001b[0m",
      "\u001b[1;31mNameError\u001b[0m: name 'mpl' is not defined"
     ]
    }
   ],
   "source": [
    "\n",
    "mpl.font_manager.fontManager.ttflist"
   ]
  },
  {
   "cell_type": "code",
   "execution_count": null,
   "metadata": {},
   "outputs": [],
   "source": []
  },
  {
   "cell_type": "code",
   "execution_count": 3,
   "metadata": {},
   "outputs": [
    {
     "name": "stdout",
     "output_type": "stream",
     "text": [
      "C:\\Users\\USER\\anaconda3\\lib\\site-packages\\matplotlib\\__init__.py\n"
     ]
    }
   ],
   "source": [
    "#TTF:Title Transfer Facility\n",
    "#sans-serif并非一个具体字体，而是css的通用字体族，具体是什么字体是由浏览器设置决定的\n",
    "print(matplotlib.__file__)"
   ]
  },
  {
   "cell_type": "code",
   "execution_count": 15,
   "metadata": {
    "scrolled": false
   },
   "outputs": [
    {
     "name": "stdout",
     "output_type": "stream",
     "text": [
      "Adobe Heiti Std\n",
      "Adobe Ming Std\n",
      "Adobe Myungjo Std\n",
      "Adobe Pi Std\n",
      "Adobe Song Std\n",
      "Agency FB\n",
      "Algerian\n",
      "Arial\n",
      "Arial Rounded MT Bold\n",
      "Arial Unicode MS\n",
      "BIZ UDGothic\n",
      "BIZ UDMincho\n",
      "Bahnschrift\n",
      "Baskerville Old Face\n",
      "Batang\n",
      "Bauhaus 93\n",
      "Bell MT\n",
      "Berlin Sans FB\n",
      "Berlin Sans FB Demi\n",
      "Bernard MT Condensed\n",
      "Blackadder ITC\n",
      "Bodoni MT\n",
      "Book Antiqua\n",
      "Bookman Old Style\n",
      "Bookshelf Symbol 7\n",
      "Bradley Hand ITC\n",
      "Britannic Bold\n",
      "Broadway\n",
      "Brush Script MT\n",
      "Calibri\n",
      "Californian FB\n",
      "Calisto MT\n",
      "Cambria\n",
      "Candara\n",
      "Castellar\n",
      "Centaur\n",
      "Century\n",
      "Century Gothic\n",
      "Century Schoolbook\n",
      "Chiller\n",
      "Colonna MT\n",
      "Comic Sans MS\n",
      "Consolas\n",
      "Constantia\n",
      "Cooper Black\n",
      "Copperplate Gothic Bold\n",
      "Copperplate Gothic Light\n",
      "Corbel\n",
      "Courier New\n",
      "Courier Std\n",
      "Curlz MT\n",
      "DFKai-SB\n",
      "DejaVu Sans\n",
      "DejaVu Sans Display\n",
      "DejaVu Sans Mono\n",
      "DejaVu Serif\n",
      "DejaVu Serif Display\n",
      "Ebrima\n",
      "Edwardian Script ITC\n",
      "Elephant\n",
      "Engravers MT\n",
      "Eras Bold ITC\n",
      "Eras Demi ITC\n",
      "Eras Light ITC\n",
      "Eras Medium ITC\n",
      "Felix Titling\n",
      "Footlight MT Light\n",
      "Forte\n",
      "Franklin Gothic Book\n",
      "Franklin Gothic Demi\n",
      "Franklin Gothic Demi Cond\n",
      "Franklin Gothic Heavy\n",
      "Franklin Gothic Medium\n",
      "Franklin Gothic Medium Cond\n",
      "Freestyle Script\n",
      "French Script MT\n",
      "Gabriola\n",
      "Gadugi\n",
      "Garamond\n",
      "Georgia\n",
      "Gigi\n",
      "Gill Sans MT\n",
      "Gill Sans MT Condensed\n",
      "Gill Sans MT Ext Condensed Bold\n",
      "Gill Sans Ultra Bold\n",
      "Gill Sans Ultra Bold Condensed\n",
      "Gloucester MT Extra Condensed\n",
      "Goudy Old Style\n",
      "Goudy Stout\n",
      "Gulim\n",
      "HYSWLongFangSong\n",
      "Haettenschweiler\n",
      "Harlow Solid Italic\n",
      "Harrington\n",
      "High Tower Text\n",
      "HoloLens MDL2 Assets\n",
      "INSPECTIONXPERT GDT FRAMES\n",
      "INSPECTIONXPERT GDT NOFRMS\n",
      "Impact\n",
      "Imprint MT Shadow\n",
      "Informal Roman\n",
      "Ink Free\n",
      "Javanese Text\n",
      "Jokerman\n",
      "Juice ITC\n",
      "Kozuka Gothic Pr6N\n",
      "Kozuka Mincho Pr6N\n",
      "Kristen ITC\n",
      "Kunstler Script\n",
      "Leelawadee\n",
      "Leelawadee UI\n",
      "Lucida Bright\n",
      "Lucida Calligraphy\n",
      "Lucida Console\n",
      "Lucida Fax\n",
      "Lucida Handwriting\n",
      "Lucida Sans\n",
      "Lucida Sans Typewriter\n",
      "Lucida Sans Unicode\n",
      "MS Gothic\n",
      "MS Mincho\n",
      "MS Outlook\n",
      "MS Reference Sans Serif\n",
      "MS Reference Specialty\n",
      "MT Extra\n",
      "MV Boli\n",
      "Magneto\n",
      "Maiandra GD\n",
      "Malgun Gothic\n",
      "Marlett\n",
      "Matura MT Script Capitals\n",
      "Meiryo\n",
      "Microsoft Himalaya\n",
      "Microsoft JhengHei\n",
      "Microsoft New Tai Lue\n",
      "Microsoft PhagsPa\n",
      "Microsoft Sans Serif\n",
      "Microsoft Tai Le\n",
      "Microsoft Uighur\n",
      "Microsoft YaHei\n",
      "Microsoft Yi Baiti\n",
      "MingLiU\n",
      "MingLiU-ExtB\n",
      "Mistral\n",
      "Modern No. 20\n",
      "Mongolian Baiti\n",
      "Monotype Corsiva\n",
      "Myanmar Text\n",
      "Myriad CAD\n",
      "Niagara Engraved\n",
      "Niagara Solid\n",
      "Nirmala UI\n",
      "OCR A Extended\n",
      "OLF SimpleSansOC\n",
      "Old English Text MT\n",
      "Onyx\n",
      "Palace Script MT\n",
      "Palatino Linotype\n",
      "Papyrus\n",
      "Parchment\n",
      "Perpetua\n",
      "Perpetua Titling MT\n",
      "Playbill\n",
      "Poor Richard\n",
      "Pristina\n",
      "Rage Italic\n",
      "Ravie\n",
      "Rockwell\n",
      "Rockwell Condensed\n",
      "Rockwell Extra Bold\n",
      "SOLIDWORKS GDT\n",
      "STIXGeneral\n",
      "STIXNonUnicode\n",
      "STIXSizeFiveSym\n",
      "STIXSizeFourSym\n",
      "STIXSizeOneSym\n",
      "STIXSizeThreeSym\n",
      "STIXSizeTwoSym\n",
      "SWAstro\n",
      "SWComp\n",
      "SWGDT\n",
      "SWGothe\n",
      "SWGothg\n",
      "SWGothi\n",
      "SWGrekc\n",
      "SWGreks\n",
      "SWIsop1\n",
      "SWIsop2\n",
      "SWIsop3\n",
      "SWIsot1\n",
      "SWIsot2\n",
      "SWIsot3\n",
      "SWItal\n",
      "SWItalc\n",
      "SWItalt\n",
      "SWLink\n",
      "SWMap\n",
      "SWMath\n",
      "SWMeteo\n",
      "SWMono\n",
      "SWMusic\n",
      "SWRomnc\n",
      "SWRomnd\n",
      "SWRomns\n",
      "SWRomnt\n",
      "SWScrpc\n",
      "SWScrps\n",
      "SWSimp\n",
      "SWTxt\n",
      "Script MT Bold\n",
      "Segoe MDL2 Assets\n",
      "Segoe Print\n",
      "Segoe Script\n",
      "Segoe UI\n",
      "Segoe UI Emoji\n",
      "Segoe UI Historic\n",
      "Segoe UI Symbol\n",
      "Showcard Gothic\n",
      "SimSun\n",
      "SimSun-ExtB\n",
      "Sitka Small\n",
      "Snap ITC\n",
      "Stencil\n",
      "Sylfaen\n",
      "Symbol\n",
      "Tahoma\n",
      "TeamViewer15\n",
      "Tempus Sans ITC\n",
      "Times New Roman\n",
      "Trebuchet MS\n",
      "Tw Cen MT\n",
      "Tw Cen MT Condensed\n",
      "Tw Cen MT Condensed Extra Bold\n",
      "UD Digi Kyokasho N-B\n",
      "UD Digi Kyokasho N-R\n",
      "Verdana\n",
      "Viner Hand ITC\n",
      "Vivaldi\n",
      "Vladimir Script\n",
      "Webdings\n",
      "Wide Latin\n",
      "Wingdings\n",
      "Wingdings 2\n",
      "Wingdings 3\n",
      "Yu Gothic\n",
      "Yu Mincho\n",
      "cmb10\n",
      "cmex10\n",
      "cmmi10\n",
      "cmr10\n",
      "cmss10\n",
      "cmsy10\n",
      "cmtt10\n"
     ]
    }
   ],
   "source": [
    "a = sorted({f.name for f in matplotlib.font_manager.fontManager.ttflist})  #排列，存成set，少掉重複的\n",
    " \n",
    "for i in a:\n",
    "    print(i)"
   ]
  },
  {
   "cell_type": "code",
   "execution_count": 22,
   "metadata": {},
   "outputs": [],
   "source": [
    "#type(a)\n",
    "#re.findall('T.+',a)"
   ]
  },
  {
   "cell_type": "code",
   "execution_count": 23,
   "metadata": {},
   "outputs": [
    {
     "data": {
      "text/plain": [
       "Text(0.5, 0.5, '中文')"
      ]
     },
     "execution_count": 23,
     "metadata": {},
     "output_type": "execute_result"
    },
    {
     "data": {
      "image/png": "[encoded data removed]",
      "text/plain": [
       "<Figure size 432x288 with 1 Axes>"
      ]
     },
     "metadata": {
      "needs_background": "light"
     },
     "output_type": "display_data"
    }
   ],
   "source": [
    "plt.text(.5, .5, '中文', fontsize=50)\n"
   ]
  },
  {
   "cell_type": "code",
   "execution_count": null,
   "metadata": {},
   "outputs": [],
   "source": []
  }
 ],
 "metadata": {
  "kernelspec": {
   "display_name": "Python 3",
   "language": "python",
   "name": "python3"
  },
  "language_info": {
   "codemirror_mode": {
    "name": "ipython",
    "version": 3
   },
   "file_extension": ".py",
   "mimetype": "text/x-python",
   "name": "python",
   "nbconvert_exporter": "python",
   "pygments_lexer": "ipython3",
   "version": "3.8.5"
  }
 },
 "nbformat": 4,
 "nbformat_minor": 4
}
