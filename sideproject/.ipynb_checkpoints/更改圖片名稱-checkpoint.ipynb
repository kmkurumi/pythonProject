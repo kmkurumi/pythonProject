{
 "cells": [
  {
   "cell_type": "code",
   "execution_count": 25,
   "metadata": {},
   "outputs": [],
   "source": [
    "import os \n",
    "import re"
   ]
  },
  {
   "cell_type": "code",
   "execution_count": 49,
   "metadata": {},
   "outputs": [],
   "source": [
    "def remove_jpg():\n",
    "    book_name=[]\n",
    "    names=os.listdir(r'C:\\Users\\USER\\Desktop\\精誠書局 test')\n",
    "    for name in names:\n",
    "        book_name.append(name.replace('.jpg',''))\n",
    "    return book_name\n",
    "#book_name"
   ]
  },
  {
   "cell_type": "code",
   "execution_count": 69,
   "metadata": {},
   "outputs": [],
   "source": [
    "def add_want(book_name):\n",
    "    book_addname=[]\n",
    "    for name in book_name:\n",
    "        #print(name[-2:])\n",
    "        if name[-2:]=='低1':\n",
    "            book_addname.append(name+'(一年級上冊)')\n",
    "        elif name[-2:]=='低2':\n",
    "            book_addname.append(name+'(一年級下冊)')   \n",
    "        elif name[-2:]=='低3':\n",
    "            book_addname.append(name+'(二年級上冊)') \n",
    "        elif name[-2:]=='低4':\n",
    "            book_addname.append(name+'(二年級下冊)') \n",
    "        elif name[-2:]=='中1':\n",
    "            book_addname.append(name+'(三年級上冊)')\n",
    "        elif name[-2:]=='中2':\n",
    "            book_addname.append(name+'(三年級下冊)')   \n",
    "        elif name[-2:]=='中3':\n",
    "            book_addname.append(name+'(四年級上冊)') \n",
    "        elif name[-2:]=='中4':\n",
    "            book_addname.append(name+'(四年級下冊)') \n",
    "        elif name[-2:]=='高1':\n",
    "            book_addname.append(name+'(五年級上冊)')\n",
    "        elif name[-2:]=='高2':\n",
    "            book_addname.append(name+'(五年級下冊)')   \n",
    "        elif name[-2:]=='高3':\n",
    "            book_addname.append(name+'(六年級上冊)') \n",
    "        elif name[-2:]=='高4':\n",
    "            book_addname.append(name+'(六年級下冊)')         \n",
    "        else: \n",
    "             book_addname.append(name)\n",
    "    print(book_addname)\n",
    "    return book_addname"
   ]
  },
  {
   "cell_type": "code",
   "execution_count": 71,
   "metadata": {},
   "outputs": [
    {
     "name": "stdout",
     "output_type": "stream",
     "text": [
      "['(南一國小)寫作小行家_中1(三年級上冊)', '(南一國小)寫作小行家_中2(三年級下冊)', '(南一國小)寫作小行家_中3(四年級上冊)', '(南一國小)寫作小行家_中4(四年級下冊)', '(南一國小)寫作小行家_高1(五年級上冊)', '(南一國小)寫作小行家_高2(五年級下冊)', '(南一國小)寫作小行家_高3(六年級上冊)', '(南一國小)寫作小行家_高4(六年級下冊)', '(南一國小)成語小行家_中1(三年級上冊)', '(南一國小)成語小行家_中2(三年級下冊)', '(南一國小)成語小行家_中3(四年級上冊)', '(南一國小)成語小行家_中4(四年級下冊)', '(南一國小)成語小行家_低1(一年級上冊)', '(南一國小)成語小行家_低2(一年級下冊)', '(南一國小)成語小行家_高1(五年級上冊)', '(南一國小)成語小行家_高2(五年級下冊)', '(南一國小)成語小行家_高3(六年級上冊)', '(南一國小)成語小行家_高4(六年級下冊)', '(南一國小)閱讀小行家_中1(三年級上冊)', '(南一國小)閱讀小行家_中2(三年級下冊)', '(南一國小)閱讀小行家_中3(四年級上冊)', '(南一國小)閱讀小行家_中4(四年級下冊)', '(南一國小)閱讀小行家_低1(一年級上冊)', '(南一國小)閱讀小行家_低2(一年級下冊)', '(南一國小)閱讀小行家_低3(二年級上冊)', '(南一國小)閱讀小行家_低4(二年級下冊)', '(南一國小)閱讀小行家_高1(五年級上冊)', '(南一國小)閱讀小行家_高2(五年級下冊)', '(南一國小)閱讀小行家_高3(六年級上冊)', '(南一國小)閱讀小行家_高4(六年級下冊)']\n"
     ]
    }
   ],
   "source": [
    "remove_jpg()\n",
    "add_want1(remove_jpg())"
   ]
  },
  {
   "cell_type": "code",
   "execution_count": null,
   "metadata": {},
   "outputs": [],
   "source": [
    "def add_want1(book_name):\n",
    "    names=os.listdir(r'C:\\Users\\USER\\Desktop\\精誠書局 test')\n",
    "    book_addname=[]\n",
    "    for name in names:\n",
    "        #print(name[-2:])\n",
    "        if name[-2:]=='低1':\n",
    "            book_addname.append(name+'(一年級上冊)')\n",
    "        elif name[-2:]=='低2':\n",
    "            book_addname.append(name+'(一年級下冊)')   \n",
    "        elif name[-2:]=='低3':\n",
    "            book_addname.append(name+'(二年級上冊)') \n",
    "        elif name[-2:]=='低4':\n",
    "            book_addname.append(name+'(二年級下冊)') \n",
    "        elif name[-2:]=='中1':\n",
    "            book_addname.append(name+'(三年級上冊)')\n",
    "        elif name[-2:]=='中2':\n",
    "            book_addname.append(name+'(三年級下冊)')   \n",
    "        elif name[-2:]=='中3':\n",
    "            book_addname.append(name+'(四年級上冊)') \n",
    "        elif name[-2:]=='中4':\n",
    "            book_addname.append(name+'(四年級下冊)') \n",
    "        elif name[-2:]=='高1':\n",
    "            book_addname.append(name+'(五年級上冊)')\n",
    "        elif name[-2:]=='高2':\n",
    "            book_addname.append(name+'(五年級下冊)')   \n",
    "        elif name[-2:]=='高3':\n",
    "            book_addname.append(name+'(六年級上冊)') \n",
    "        elif name[-2:]=='高4':\n",
    "            book_addname.append(name+'(六年級下冊)')         \n",
    "        else: \n",
    "             book_addname.append(name)\n",
    "    print(book_addname)\n",
    "    return book_addname"
   ]
  }
 ],
 "metadata": {
  "kernelspec": {
   "display_name": "Python 3",
   "language": "python",
   "name": "python3"
  },
  "language_info": {
   "codemirror_mode": {
    "name": "ipython",
    "version": 3
   },
   "file_extension": ".py",
   "mimetype": "text/x-python",
   "name": "python",
   "nbconvert_exporter": "python",
   "pygments_lexer": "ipython3",
   "version": "3.8.5"
  }
 },
 "nbformat": 4,
 "nbformat_minor": 4
}
