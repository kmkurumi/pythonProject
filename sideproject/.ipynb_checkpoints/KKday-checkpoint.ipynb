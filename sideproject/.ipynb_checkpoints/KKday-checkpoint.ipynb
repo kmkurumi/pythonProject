{
 "cells": [
  {
   "cell_type": "code",
   "execution_count": 35,
   "metadata": {},
   "outputs": [],
   "source": [
    "import requests"
   ]
  },
  {
   "cell_type": "code",
   "execution_count": 10,
   "metadata": {},
   "outputs": [],
   "source": [
    "url='https://www.kkday.com/zh-tw/product/ajax_productlist/A01-001?country=A01-001&city=A01-001-00001&keyword=&availstartdate=&availenddate=&cat=TAG_4_4&time=&glang=&sort=prec&page=1&row=10&fprice=*&eprice=*&precurrency=TWD&csrf_token_name=7177d96896c518562e2bbdadb1730988'\n",
    "header={\n",
    "    'user-agent': 'Mozilla/5.0 (Windows NT 10.0; Win64; x64) AppleWebKit/537.36 (KHTML, like Gecko) Chrome/90.0.4430.93 Safari/537.36'\n",
    "}\n",
    "res=requests.get(url,headers=header)"
   ]
  },
  {
   "cell_type": "code",
   "execution_count": 11,
   "metadata": {},
   "outputs": [
    {
     "data": {
      "text/plain": [
       "<Response [200]>"
      ]
     },
     "execution_count": 11,
     "metadata": {},
     "output_type": "execute_result"
    }
   ],
   "source": [
    "res"
   ]
  },
  {
   "cell_type": "code",
   "execution_count": 26,
   "metadata": {
    "scrolled": true
   },
   "outputs": [
    {
     "data": {
      "text/plain": [
       "'utf-8'"
      ]
     },
     "execution_count": 26,
     "metadata": {},
     "output_type": "execute_result"
    }
   ],
   "source": [
    "res.encoding"
   ]
  },
  {
   "cell_type": "code",
   "execution_count": 24,
   "metadata": {},
   "outputs": [],
   "source": [
    "#res.encoding='utf-8'"
   ]
  },
  {
   "cell_type": "code",
   "execution_count": 30,
   "metadata": {},
   "outputs": [],
   "source": [
    "#res.text\n",
    "#res.json()  #"
   ]
  },
  {
   "cell_type": "code",
   "execution_count": 34,
   "metadata": {},
   "outputs": [
    {
     "data": {
      "text/plain": [
       "<__main__.kkday at 0x19e3ccad748>"
      ]
     },
     "execution_count": 34,
     "metadata": {},
     "output_type": "execute_result"
    }
   ],
   "source": [
    "class kkday:\n",
    "    def __init__(self,city_name):  #利用__init__來將參數一次性傳入函數中\n",
    "        self.city_name=city_name\n",
    "    \n",
    "    def results(self):\n",
    "        result=[]\n",
    "        if city_name:\n",
    "            #將請求網址(Request URL)簡化為：\n",
    "            url=f'https://www.kkday.com/zh-tw/product/productlist/A01-001?page=1&city=A01-001-00001&cat=TAG_4_4&sort=prec'\n",
    "            header={\n",
    "                    'user-agent': 'Mozilla/5.0 (Windows NT 10.0; Win64; x64) AppleWebKit/537.36 (KHTML, like Gecko) Chrome/90.0.4430.93 Safari/537.36'\n",
    "            }\n",
    "            res=requests.get(url,headers=header)\n",
    "            analysis=res.json()['data']  #我們要的資料在'data'中，dict屬性\n",
    "            \n",
    "            for analyses in analysis:  #'data'中又將資料分成dict屬性\n",
    "                title=analyses['name']\n",
    "                introduction=analyses['introduction']\n",
    "                result.append(dict(title=title,introduction=introduction))\n",
    "        return result\n",
    "    \n",
    "\n",
    "kkday('台北')                \n",
    "            \n",
    "            \n",
    "            \n",
    "            "
   ]
  },
  {
   "cell_type": "code",
   "execution_count": 32,
   "metadata": {},
   "outputs": [
    {
     "name": "stdout",
     "output_type": "stream",
     "text": [
      "[{'title': '【限時 86 折優惠】花蓮一日包車｜太魯閣＆清水斷崖＆七星潭｜花蓮包車推薦', 'link': 'https://www.kkday.com/zh-tw/product/2127', 'price': 1640, 'booking_date': '20210430', 'star': 4.59, 'source': 'KKday'}, {'title': '【海味早鳥優惠】花蓮賞鯨半日遊｜多羅滿賞鯨團｜市區接送（季節限定）', 'link': 'https://www.kkday.com/zh-tw/product/1875', 'price': 675, 'booking_date': '20210430', 'star': 4.66, 'source': 'KKday'}, {'title': '【限時 9 折優惠】即買即用｜花蓮租機車首選（花蓮火車站取車）', 'link': 'https://www.kkday.com/zh-tw/product/21380', 'price': 225, 'booking_date': '20210429', 'star': 4.63, 'source': 'KKday'}, {'title': '花蓮一日遊｜太魯閣＆清水斷崖｜花蓮市區出發接送', 'link': 'https://www.kkday.com/zh-tw/product/12181', 'price': 600, 'booking_date': '20210430', 'star': 4.69, 'source': 'KKday'}, {'title': '【86折優惠】花蓮包車一日遊 | 太魯閣＆七星潭＆佳興冰果室 | 花蓮包車推薦', 'link': 'https://www.kkday.com/zh-tw/product/102225', 'price': 1680, 'booking_date': '20210430', 'star': 4.94, 'source': 'KKday'}, {'title': '花蓮一日遊｜太魯閣山月吊橋、白楊瀑布、九曲洞步道｜花蓮市區出發', 'link': 'https://www.kkday.com/zh-tw/product/104324', 'price': 1230, 'booking_date': '20210430', 'star': 4.77, 'source': 'KKday'}, {'title': '【花蓮太平洋左岸一日遊】石門洞、石梯坪、親不知子海上古道', 'link': 'https://www.kkday.com/zh-tw/product/32784', 'price': 520, 'booking_date': '20210501', 'star': 4.74, 'source': 'KKday'}, {'title': '台灣花蓮｜水母丁秘境SUP＆私房景點｜市區接送', 'link': 'https://www.kkday.com/zh-tw/product/35596', 'price': 2499, 'booking_date': '20210502', 'star': 5, 'source': 'KKday'}, {'title': '花蓮一日遊｜賞鯨 ＆太魯閣 ＆清水斷崖 ＆七星潭｜花蓮市區出發接送', 'link': 'https://www.kkday.com/zh-tw/product/11492', 'price': 1500, 'booking_date': '20210502', 'star': 4.48, 'source': 'KKday'}, {'title': '台灣包車暢遊花東縱谷或東海岸線｜花蓮前往台東 / 台東前往花蓮', 'link': 'https://www.kkday.com/zh-tw/product/2124', 'price': 3890, 'booking_date': '20210430', 'star': 4.5, 'source': 'KKday'}]\n"
     ]
    }
   ],
   "source": [
    "import requests\n",
    " \n",
    " \n",
    "# KKday網站\n",
    "class Kkday:\n",
    " \n",
    "    #建構式\n",
    "    def __init__(self, city_name):\n",
    "        self.city_name = city_name  # 城市名稱屬性\n",
    "\n",
    "    def scrape(self):\n",
    "\n",
    "        result = []  # 回傳結果\n",
    "\n",
    "        if self.city_name:  # 如果城市名稱非空值\n",
    " \n",
    "            # 取得傳入城市的所有一日遊票券\n",
    "            response = requests.get(\n",
    "                f\"https://www.kkday.com/zh-tw/product/ajax_productlist/?keyword={self.city_name}&cat=TAG_4_4&sort=rdesc\")\n",
    "\n",
    "            # 資料\n",
    "            activities = response.json()[\"data\"]\n",
    "\n",
    "            for activity in activities:\n",
    " \n",
    "                # 票券名稱\n",
    "                title = activity[\"name\"]\n",
    " \n",
    "                # 票券詳細內容連結\n",
    "                link = activity[\"url\"]\n",
    " \n",
    "                # 票券價格\n",
    "                price = activity[\"price\"]\n",
    " \n",
    "                # 最早可使用日期\n",
    "                booking_date = activity[\"earliest_sale_date\"]\n",
    " \n",
    "                # 評價\n",
    "                star = activity[\"rating_star\"]\n",
    "\n",
    "                result.append(\n",
    "                    dict(title=title, link=link, price=price, booking_date=booking_date, star=star, source=\"KKday\"))\n",
    " \n",
    "        return result\n",
    "\n",
    "demo = Kkday(\"花蓮\")\n",
    "print(demo.scrape())"
   ]
  },
  {
   "cell_type": "code",
   "execution_count": null,
   "metadata": {},
   "outputs": [],
   "source": [
    "https://www.kkday.com/zh-tw/product/ajax_productlist/?keyword={self.city_name}&cat=TAG_4_4&sort=rdesc\n",
    "https://www.kkday.com/zh-tw/product/ajax_productlist/A01-001?country=A01-001&city=A01-001-00001&keyword=&availstartdate=&availenddate=&cat=&time=&glang=&sort=prec&page=1&row=10&"
   ]
  }
 ],
 "metadata": {
  "kernelspec": {
   "display_name": "Python 3",
   "language": "python",
   "name": "python3"
  },
  "language_info": {
   "codemirror_mode": {
    "name": "ipython",
    "version": 3
   },
   "file_extension": ".py",
   "mimetype": "text/x-python",
   "name": "python",
   "nbconvert_exporter": "python",
   "pygments_lexer": "ipython3",
   "version": "3.7.6"
  }
 },
 "nbformat": 4,
 "nbformat_minor": 4
}
