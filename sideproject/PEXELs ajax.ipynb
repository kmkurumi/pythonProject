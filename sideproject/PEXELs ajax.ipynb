{
 "cells": [
  {
   "cell_type": "code",
   "execution_count": 24,
   "metadata": {},
   "outputs": [],
   "source": [
    "from bs4 import BeautifulSoup\n",
    "import requests\n",
    "import time\n",
    "import re"
   ]
  },
  {
   "cell_type": "code",
   "execution_count": 2,
   "metadata": {},
   "outputs": [
    {
     "name": "stdout",
     "output_type": "stream",
     "text": [
      "总用时: 0.17728400230407715\n"
     ]
    }
   ],
   "source": [
    "headers = {\n",
    "    'User-Agent': 'userAgent: Mozilla/5.0 (Windows NT 10.0; Win64; x64) AppleWebKit/537.36 (KHTML, like Gecko) Chrome/89.0.4389.128 Safari/537.36'\n",
    "}\n",
    "\n",
    "#Request Method: GET\n",
    "def pic_scratch(url):\n",
    "    res = requests.get(url, headers=headers)\n",
    "    links = re.findall('<a href=\"//photo//.*/\">', res.text)\n",
    "    for link in links:\n",
    "        pic = requests.get(link, headers)\n",
    "        pic_name = re.search('(?<=dl=).*\\.jpg', link).group()\n",
    "        with open('C:/Users/USER/Desktop/'+ pic_name, 'wb') as pf:\n",
    "            pf.write(pic.content)\n",
    "        print(\"Download complete!!:\" + pic_name)\n",
    "\n",
    "\n",
    "if __name__ == '__main__':\n",
    "    start_time = time.time()\n",
    "    urls = ['https://www.pexels.com/search/cat/?page=={}'.format(i) for i in range(1, 3)]  #用12查respondhttps://www.pexels.com/search/cat/?page==2\n",
    "    for url in urls:\n",
    "        pic_scratch(url)\n",
    "    end_time = time.time()\n",
    "    print(\"总用时:\", end_time - start_time)\n",
    "\n"
   ]
  },
  {
   "cell_type": "code",
   "execution_count": 39,
   "metadata": {},
   "outputs": [
    {
     "name": "stdout",
     "output_type": "stream",
     "text": [
      "<Response [403]>\n"
     ]
    }
   ],
   "source": [
    "url = 'https://www.pexels.com/search/cat'\n",
    "headers = {\n",
    "    'User-Agent':\"Mozilla/5.0 (Windows NT 10.0; Win64; x64) AppleWebKit/537.36 (KHTML, like Gecko) Chrome/89.0.4389.128 Safari/537.36\",\n",
    "    'Referer':'https://www.pexels.com'\n",
    "\n",
    "}\n",
    "\n",
    "res = requests.get(url,headers=headers)\n",
    "print(res)  #<Response [403]>\n",
    "soup = BeautifulSoup(res.text)\n",
    "#print(soup.prettify())\n",
    "#print(res.text)\n",
    "#res.encoding"
   ]
  },
  {
   "cell_type": "code",
   "execution_count": 38,
   "metadata": {},
   "outputs": [
    {
     "data": {
      "text/plain": [
       "<Response [403]>"
      ]
     },
     "execution_count": 38,
     "metadata": {},
     "output_type": "execute_result"
    }
   ],
   "source": [
    "#requests.get('https://www.pexels.com/medium/above-the-fold/?id%5B%5D=4198369&id%5B%5D=4858815&id%5B%5D=5984834&id%5B%5D=1741205&id%5B%5D=1314550&id%5B%5D=2558605&id%5B%5D=38867&id%5B%5D=982865&id%5B%5D=821736&id%5B%5D=569170&id%5B%5D=1521304&id%5B%5D=3777622&id%5B%5D=1573324&id%5B%5D=1770918&id%5B%5D=3335622&id%5B%5D=4364872&id%5B%5D=4894886&id%5B%5D=774731&id%5B%5D=1170986&id%5B%5D=1543793&id%5B%5D=1056251&id%5B%5D=991831&id%5B%5D=1521306&id%5B%5D=236606&id%5B%5D=156934&id%5B%5D=156321&id%5B%5D=1560424&id%5B%5D=1634838&id%5B%5D=1440406&id%5B%5D=4587959',headers=headers)"
   ]
  },
  {
   "cell_type": "code",
   "execution_count": null,
   "metadata": {},
   "outputs": [],
   "source": [
    "import urllib2, cookielib\n",
    "cookie_support= urllib2.HTTPCookieProcessor(cookielib.CookieJar())\n",
    "opener = urllib2.build_opener(cookie_support)\n",
    "urllib2.install_opener(opener)\n",
    "content = urllib2.urlopen('http://XXXX').read()"
   ]
  },
  {
   "cell_type": "code",
   "execution_count": 33,
   "metadata": {},
   "outputs": [
    {
     "name": "stdout",
     "output_type": "stream",
     "text": [
      "None\n",
      "['cf-alert', 'cf-alert-error', 'cf-cookie-error']\n",
      "['cf-error-details-wrapper']\n",
      "['cf-wrapper', 'cf-header', 'cf-error-overview']\n",
      "['cf-section', 'cf-highlight', 'cf-captcha-container']\n",
      "['cf-wrapper']\n",
      "['cf-columns', 'two']\n",
      "['cf-column']\n",
      "['cf-highlight-inverse', 'cf-form-stacked']\n",
      "None\n",
      "None\n",
      "None\n",
      "['bubbles']\n",
      "['bubbles']\n",
      "['bubbles']\n",
      "['cookie-warning']\n",
      "None\n",
      "['cf-column']\n",
      "['cf-screenshot-container']\n",
      "['cf-section', 'cf-wrapper']\n",
      "['cf-columns', 'two']\n",
      "['cf-column']\n",
      "['cf-column']\n",
      "['cf-error-footer', 'cf-wrapper', 'w-240', 'lg:w-full', 'py-10', 'sm:py-4', 'sm:px-8', 'mx-auto', 'text-center', 'sm:text-left', 'border-solid', 'border-0', 'border-t', 'border-gray-300']\n"
     ]
    }
   ],
   "source": [
    "#soup.find_all(\"div\",class_=\"photos__column\")\n",
    "\n",
    "for i in soup.find_all('div'):\n",
    "    print(i.get('class'))\n"
   ]
  },
  {
   "cell_type": "code",
   "execution_count": 22,
   "metadata": {},
   "outputs": [
    {
     "ename": "NameError",
     "evalue": "name 'soup' is not defined",
     "output_type": "error",
     "traceback": [
      "\u001b[1;31m---------------------------------------------------------------------------\u001b[0m",
      "\u001b[1;31mNameError\u001b[0m                                 Traceback (most recent call last)",
      "\u001b[1;32m<ipython-input-22-322cf6b8fa7b>\u001b[0m in \u001b[0;36m<module>\u001b[1;34m\u001b[0m\n\u001b[0;32m      1\u001b[0m \u001b[0murls\u001b[0m \u001b[1;33m=\u001b[0m \u001b[1;33m[\u001b[0m\u001b[1;33m]\u001b[0m\u001b[1;33m\u001b[0m\u001b[1;33m\u001b[0m\u001b[0m\n\u001b[1;32m----> 2\u001b[1;33m \u001b[1;32mfor\u001b[0m \u001b[0mi\u001b[0m \u001b[1;32min\u001b[0m \u001b[0msoup\u001b[0m\u001b[1;33m.\u001b[0m\u001b[0mfind_all\u001b[0m\u001b[1;33m(\u001b[0m\u001b[1;34m\"div\"\u001b[0m\u001b[1;33m,\u001b[0m\u001b[0mclass_\u001b[0m\u001b[1;33m=\u001b[0m\u001b[1;34m\"hide-featured-badge hide-favorite-badge\"\u001b[0m\u001b[1;33m)\u001b[0m\u001b[1;33m[\u001b[0m\u001b[1;36m0\u001b[0m\u001b[1;33m]\u001b[0m\u001b[1;33m.\u001b[0m\u001b[0mfind_all\u001b[0m\u001b[1;33m(\u001b[0m\u001b[1;34m\"img\"\u001b[0m\u001b[1;33m)\u001b[0m\u001b[1;33m:\u001b[0m\u001b[1;33m\u001b[0m\u001b[1;33m\u001b[0m\u001b[0m\n\u001b[0m\u001b[0;32m      3\u001b[0m     \u001b[0murl\u001b[0m \u001b[1;33m=\u001b[0m \u001b[0mi\u001b[0m\u001b[1;33m.\u001b[0m\u001b[0mget\u001b[0m\u001b[1;33m(\u001b[0m\u001b[1;34m\"src\"\u001b[0m\u001b[1;33m)\u001b[0m\u001b[1;33m\u001b[0m\u001b[1;33m\u001b[0m\u001b[0m\n\u001b[0;32m      4\u001b[0m     \u001b[1;32mif\u001b[0m \u001b[0mlen\u001b[0m\u001b[1;33m(\u001b[0m\u001b[0murl\u001b[0m\u001b[1;33m)\u001b[0m\u001b[1;33m<\u001b[0m \u001b[1;36m96\u001b[0m\u001b[1;33m:\u001b[0m\u001b[1;33m\u001b[0m\u001b[1;33m\u001b[0m\u001b[0m\n\u001b[0;32m      5\u001b[0m         \u001b[1;32mwith\u001b[0m \u001b[0mopen\u001b[0m\u001b[1;33m(\u001b[0m\u001b[0murl\u001b[0m\u001b[1;33m.\u001b[0m\u001b[0msplit\u001b[0m\u001b[1;33m(\u001b[0m\u001b[1;34m\"/\"\u001b[0m\u001b[1;33m)\u001b[0m\u001b[1;33m[\u001b[0m\u001b[1;33m-\u001b[0m\u001b[1;36m1\u001b[0m\u001b[1;33m]\u001b[0m\u001b[1;33m,\u001b[0m\u001b[1;34m\"wb+\"\u001b[0m\u001b[1;33m)\u001b[0m \u001b[1;32mas\u001b[0m \u001b[0mf\u001b[0m\u001b[1;33m:\u001b[0m\u001b[1;33m\u001b[0m\u001b[1;33m\u001b[0m\u001b[0m\n",
      "\u001b[1;31mNameError\u001b[0m: name 'soup' is not defined"
     ]
    }
   ],
   "source": [
    "\n",
    "urls = []\n",
    "for i in soup.find_all(\"div\",class_=\"hide-featured-badge hide-favorite-badge\")[0].find_all(\"img\"):\n",
    "    url = i.get(\"src\")\n",
    "    if len(url)< 96:\n",
    "        with open(url.split(\"/\")[-1],\"wb+\") as f:\n",
    "            headers = {\"Referer\":url}\n",
    "            f.write(requests.get(url,headers=headers).content)"
   ]
  },
  {
   "cell_type": "code",
   "execution_count": 28,
   "metadata": {},
   "outputs": [
    {
     "ename": "SyntaxError",
     "evalue": "invalid syntax (<ipython-input-28-b3ddf62ebb1b>, line 1)",
     "output_type": "error",
     "traceback": [
      "\u001b[1;36m  File \u001b[1;32m\"<ipython-input-28-b3ddf62ebb1b>\"\u001b[1;36m, line \u001b[1;32m1\u001b[0m\n\u001b[1;33m    <a href=\"\\/photo\\/.*/\">',\u001b[0m\n\u001b[1;37m    ^\u001b[0m\n\u001b[1;31mSyntaxError\u001b[0m\u001b[1;31m:\u001b[0m invalid syntax\n"
     ]
    }
   ],
   "source": [
    "links = re.findall('<a href=\"\\/photo\\/.*\\/\">', res.text)\n",
    "print(links)\n",
    "soup = BeautifulSoup(res.text)\n",
    "\n",
    "rls = []\n",
    "for i in soup.find_all(\"div\",class_=\"am__body\")[0].find_all(\"img\"):\n",
    "    url = i.get(\"src\")\n",
    "    if len(url)< 96:\n",
    "        with open(url.split(\"/\")[-1],\"wb+\") as f:\n",
    "            headers = {\"Referer\":url}\n",
    "            f.write(requests.get(url,headers=headers).content"
   ]
  }
 ],
 "metadata": {
  "kernelspec": {
   "display_name": "Python 3",
   "language": "python",
   "name": "python3"
  },
  "language_info": {
   "codemirror_mode": {
    "name": "ipython",
    "version": 3
   },
   "file_extension": ".py",
   "mimetype": "text/x-python",
   "name": "python",
   "nbconvert_exporter": "python",
   "pygments_lexer": "ipython3",
   "version": "3.7.6"
  }
 },
 "nbformat": 4,
 "nbformat_minor": 4
}
