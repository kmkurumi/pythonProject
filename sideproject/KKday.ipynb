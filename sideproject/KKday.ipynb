{
 "cells": [
  {
   "cell_type": "code",
   "execution_count": 35,
   "metadata": {},
   "outputs": [],
   "source": [
    "import requests"
   ]
  },
  {
   "cell_type": "code",
   "execution_count": 10,
   "metadata": {},
   "outputs": [],
   "source": [
    "url='https://www.kkday.com/zh-tw/product/ajax_productlist/A01-001?country=A01-001&city=A01-001-00001&keyword=&availstartdate=&availenddate=&cat=TAG_4_4&time=&glang=&sort=prec&page=1&row=10&fprice=*&eprice=*&precurrency=TWD&csrf_token_name=7177d96896c518562e2bbdadb1730988'\n",
    "header={\n",
    "    'user-agent': 'Mozilla/5.0 (Windows NT 10.0; Win64; x64) AppleWebKit/537.36 (KHTML, like Gecko) Chrome/90.0.4430.93 Safari/537.36'\n",
    "}\n",
    "res=requests.get(url,headers=header)"
   ]
  },
  {
   "cell_type": "code",
   "execution_count": 11,
   "metadata": {},
   "outputs": [
    {
     "data": {
      "text/plain": [
       "<Response [200]>"
      ]
     },
     "execution_count": 11,
     "metadata": {},
     "output_type": "execute_result"
    }
   ],
   "source": [
    "res"
   ]
  },
  {
   "cell_type": "code",
   "execution_count": 26,
   "metadata": {
    "scrolled": true
   },
   "outputs": [
    {
     "data": {
      "text/plain": [
       "'utf-8'"
      ]
     },
     "execution_count": 26,
     "metadata": {},
     "output_type": "execute_result"
    }
   ],
   "source": [
    "res.encoding"
   ]
  },
  {
   "cell_type": "code",
   "execution_count": 24,
   "metadata": {},
   "outputs": [],
   "source": [
    "#res.encoding='utf-8'"
   ]
  },
  {
   "cell_type": "code",
   "execution_count": 30,
   "metadata": {},
   "outputs": [],
   "source": [
    "#res.text\n",
    "#res.json()  #"
   ]
  },
  {
   "cell_type": "code",
   "execution_count": 34,
   "metadata": {},
   "outputs": [
    {
     "data": {
      "text/plain": [
       "<__main__.kkday at 0x19e3ccad748>"
      ]
     },
     "execution_count": 34,
     "metadata": {},
     "output_type": "execute_result"
    }
   ],
   "source": [
    "class kkday:\n",
    "    def __init__(self,city_name):  #利用__init__來將參數一次性傳入函數中\n",
    "        self.city_name=city_name\n",
    "    \n",
    "    def results(self):\n",
    "        result=[]\n",
    "        if city_name:\n",
    "            #將請求網址(Request URL)簡化為：\n",
    "            url=f'https://www.kkday.com/zh-tw/product/productlist/A01-001?page=1&city=A01-001-00001&cat=TAG_4_4&sort=prec'\n",
    "            header={\n",
    "                    'user-agent': 'Mozilla/5.0 (Windows NT 10.0; Win64; x64) AppleWebKit/537.36 (KHTML, like Gecko) Chrome/90.0.4430.93 Safari/537.36'\n",
    "            }\n",
    "            res=requests.get(url,headers=header)\n",
    "            analysis=res.json()['data']  #我們要的資料在'data'中，dict屬性\n",
    "            \n",
    "            for analyses in analysis:  #'data'中又將資料分成dict屬性\n",
    "                title=analyses['name']\n",
    "                introduction=analyses['introduction']\n",
    "                result.append(dict(title=title,introduction=introduction))\n",
    "        return result\n",
    "    \n",
    "\n",
    "kkday('台北')                \n",
    "            \n",
    "            \n",
    "            \n",
    "            "
   ]
  },
  {
   "cell_type": "code",
   "execution_count": 2,
   "metadata": {},
   "outputs": [
    {
     "name": "stdout",
     "output_type": "stream",
     "text": [
      "[{'title': '【台東包車自由行】台東 8 小時包車一日接駁', 'link': 'https://www.kkday.com/zh-tw/product/3297', 'price': 4111, 'booking_date': '20210501', 'star': 4.52, 'source': 'KKday'}, {'title': '【限時九折優惠】台東客製化包車 | 伯朗大道＆三仙台＆初鹿牧場 | 台東包車推薦', 'link': 'https://www.kkday.com/zh-tw/product/104354', 'price': 2800, 'booking_date': '20210501', 'star': 4.8, 'source': 'KKday'}, {'title': '【台東包車半日接送】快速遊台東熱門景點', 'link': 'https://www.kkday.com/zh-tw/product/3298', 'price': 2778, 'booking_date': '20210501', 'star': 4.54, 'source': 'KKday'}, {'title': '【母親節優惠】台東客製化包車推薦｜多良車站＆都歷海灘＆東河包子＆小野柳', 'link': 'https://www.kkday.com/zh-tw/product/35454', 'price': 2550, 'booking_date': '20210502', 'star': 4.7, 'source': 'KKday'}, {'title': '台灣包車暢遊花東縱谷或東海岸線｜花蓮前往台東 / 台東前往花蓮', 'link': 'https://www.kkday.com/zh-tw/product/2124', 'price': 3890, 'booking_date': '20210501', 'star': 4.5, 'source': 'KKday'}, {'title': '台東一日遊｜2021 熱氣球嘉年華、鹿野神社、龍田', 'link': 'https://www.kkday.com/zh-tw/product/39274', 'price': 1688, 'booking_date': '20210703', 'star': 4.8, 'source': 'KKday'}, {'title': '台灣台東池上一日遊 | 漂鳥197縱谷大地&伯朗大道&天堂路&曲禾酒莊DIY | 台東市區(飯店接駁)', 'link': 'https://www.kkday.com/zh-tw/product/39005', 'price': 1688, 'booking_date': '20210503', 'star': 5, 'source': 'KKday'}, {'title': '台東包車一日遊｜台東大學圖書館＆台東美術館＆台東海濱公園', 'link': 'https://www.kkday.com/zh-tw/product/35398', 'price': 3777, 'booking_date': '20210503', 'star': 0, 'source': 'KKday'}, {'title': '台東一日遊｜2021 熱氣球嘉年華、池上伯朗大道、瑞和時光驛站', 'link': 'https://www.kkday.com/zh-tw/product/39268', 'price': 1888, 'booking_date': '20210703', 'star': 4.93, 'source': 'KKday'}, {'title': '台東南迴排灣部落一日遊 | 太麻里曙光園區&櫻木花道平交道&部落烘豆&山野屋 | 台東市區出發', 'link': 'https://www.kkday.com/zh-tw/product/39222', 'price': 1799, 'booking_date': '20210504', 'star': 4.86, 'source': 'KKday'}]\n"
     ]
    }
   ],
   "source": [
    "import requests\n",
    " \n",
    " \n",
    "# KKday網站\n",
    "class Kkday:\n",
    " \n",
    "    #建構式\n",
    "    def __init__(self, city_name):\n",
    "        self.city_name = city_name  # 城市名稱屬性\n",
    "\n",
    "    def scrape(self):\n",
    "\n",
    "        result = []  # 回傳結果\n",
    "\n",
    "        if self.city_name:  # 如果城市名稱非空值\n",
    " \n",
    "            # 取得傳入城市的所有一日遊票券\n",
    "            response = requests.get(\n",
    "                f\"https://www.kkday.com/zh-tw/product/ajax_productlist/?keyword={self.city_name}&cat=TAG_4_4&sort=rdesc\")\n",
    "\n",
    "            # 資料\n",
    "            activities = response.json()[\"data\"]\n",
    "\n",
    "            for activity in activities:\n",
    " \n",
    "                # 票券名稱\n",
    "                title = activity[\"name\"]\n",
    " \n",
    "                # 票券詳細內容連結\n",
    "                link = activity[\"url\"]\n",
    " \n",
    "                # 票券價格\n",
    "                price = activity[\"price\"]\n",
    " \n",
    "                # 最早可使用日期\n",
    "                booking_date = activity[\"earliest_sale_date\"]\n",
    " \n",
    "                # 評價\n",
    "                star = activity[\"rating_star\"]\n",
    "\n",
    "                result.append(\n",
    "                    dict(title=title, link=link, price=price, booking_date=booking_date, star=star, source=\"KKday\"))\n",
    " \n",
    "        return result\n",
    "\n",
    "demo = Kkday(\"台東\")\n",
    "print(demo.scrape())"
   ]
  },
  {
   "cell_type": "code",
   "execution_count": null,
   "metadata": {},
   "outputs": [],
   "source": [
    "https://www.kkday.com/zh-tw/product/ajax_productlist/?keyword={self.city_name}&cat=TAG_4_4&sort=rdesc\n",
    "https://www.kkday.com/zh-tw/product/ajax_productlist/A01-001?country=A01-001&city=A01-001-00001&keyword=&availstartdate=&availenddate=&cat=&time=&glang=&sort=prec&page=1&row=10&"
   ]
  }
 ],
 "metadata": {
  "kernelspec": {
   "display_name": "Python 3",
   "language": "python",
   "name": "python3"
  },
  "language_info": {
   "codemirror_mode": {
    "name": "ipython",
    "version": 3
   },
   "file_extension": ".py",
   "mimetype": "text/x-python",
   "name": "python",
   "nbconvert_exporter": "python",
   "pygments_lexer": "ipython3",
   "version": "3.7.6"
  }
 },
 "nbformat": 4,
 "nbformat_minor": 4
}
