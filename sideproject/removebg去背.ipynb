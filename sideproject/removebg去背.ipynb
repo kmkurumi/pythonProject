{
 "cells": [
  {
   "cell_type": "code",
   "execution_count": 24,
   "id": "36085255",
   "metadata": {},
   "outputs": [],
   "source": [
    "import requests\n",
    "import os \n",
    "import time"
   ]
  },
  {
   "cell_type": "markdown",
   "id": "82523153",
   "metadata": {},
   "source": [
    "將路徑下的檔案全部列出，再利用open，api，一個月50張照片"
   ]
  },
  {
   "cell_type": "code",
   "execution_count": 27,
   "id": "cdce14b9",
   "metadata": {},
   "outputs": [],
   "source": [
    "path=r\"C:\\Users\\USER\\Desktop\\hololive\"\n",
    "for i in os.listdir(path):\n",
    "    #print(i)\n",
    "    #open(path+'/'+i,'rb') \n",
    "    response = requests.post('https://api.remove.bg/v1.0/removebg',files={'image_file': open(path+'/'+i,'rb',)}, #这里填写图片路径\n",
    "    data={'size': 'auto'},headers={'X-Api-Key': 'FysYJqRGWkSUcGSUkKF16WTA'}) #必要时可替换成你的api key\n",
    "\n",
    "    if response.status_code == requests.codes.ok:\n",
    "    #生成新的图片，格式可以自定义，注意路径\n",
    "        with open(\"C:/Users/USER/Desktop/hololive改/\"+i.replace('.jpg','')+'改.jpg', \"wb\") as out:\n",
    "            out.write(response.content)\n",
    "    #else:\n",
    "        #print(\"Error:\", response.status_code,'name:',i,sep='  ')\n"
   ]
  }
 ],
 "metadata": {
  "kernelspec": {
   "display_name": "Python 3",
   "language": "python",
   "name": "python3"
  },
  "language_info": {
   "codemirror_mode": {
    "name": "ipython",
    "version": 3
   },
   "file_extension": ".py",
   "mimetype": "text/x-python",
   "name": "python",
   "nbconvert_exporter": "python",
   "pygments_lexer": "ipython3",
   "version": "3.8.5"
  }
 },
 "nbformat": 4,
 "nbformat_minor": 5
}
