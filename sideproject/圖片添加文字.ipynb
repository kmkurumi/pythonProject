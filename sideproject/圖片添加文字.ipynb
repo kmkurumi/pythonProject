{
 "cells": [
  {
   "cell_type": "code",
   "execution_count": 4,
   "metadata": {},
   "outputs": [],
   "source": [
    "from PIL import Image, ImageFont, ImageDraw\n",
    "import glob, os\n"
   ]
  },
  {
   "cell_type": "code",
   "execution_count": 6,
   "metadata": {},
   "outputs": [],
   "source": [
    "# 指定要使用的字型和大小；/Library/Fonts/是macOS字型目錄；Linux的字型目錄是/usr/share/fonts/\n",
    "font_en = ImageFont.truetype('arial',44,index=0)  #英文字體:arial\n",
    "font_ch = ImageFont.truetype('kaiu',90,index=0)  #中文字體:標楷體:kaiu\n",
    "  \n",
    "# image: 圖片  text：要新增的文字 font：字型\n",
    "def add_text_to_image(image, text, font=font_ch):\n",
    "    rgba_image = image.convert('RGBA')  #image.convert(mode,)，PIL中有九种不同模式。分别为1，L，P，RGB，RGBA，CMYK，YCbCr，I，F\n",
    "    text_overlay = Image.new('RGBA', rgba_image.size, (255, 255, 255, 0))  #(R,G,B,透明度(0-255(完全不透明))\n",
    "    image_draw = ImageDraw.Draw(text_overlay)  #在text_overlay的圖層上\n",
    "    text_size_x, text_size_y = image_draw.textsize(text, font=font)  #ex: a,b=1,2>>>a=1,b=2，textsize:該字體呈現時字符串佔用的寬度和高度\n",
    "    # 設定文字文字位置\n",
    "    print(rgba_image)\n",
    "    # text_xy = (rgba_image.size[0] - text_size_x, rgba_image.size[1] - text_size_y)  #底部，要剛好讓文字底部碰圖層底部，image.size=(x,y)(tuple)\n",
    "    text_xy = ((rgba_image.size[0] - text_size_x)/2, (rgba_image.size[1] - text_size_y)/2) \n",
    "    #文字在中間，文字從圖層正中央的左上方寫起(文字寬和高的一半)\n",
    "    #image_draw.text(text_xy, text, font=font, fill=(76, 234, 124, 180))\n",
    "    # 設定文字顏色和透明度\n",
    "    image_draw.text(text_xy, text, font=font, fill=(3, 3, 3, 210))\n",
    "  \n",
    "    image_with_text = Image.alpha_composite(rgba_image, text_overlay)  #一張背景透明圖像和一張背景不透明圖像的合成\n",
    "    return image_with_text"
   ]
  },
  {
   "cell_type": "code",
   "execution_count": 7,
   "metadata": {},
   "outputs": [
    {
     "name": "stdout",
     "output_type": "stream",
     "text": [
      "<PIL.Image.Image image mode=RGBA size=640x640 at 0x1F2C465A9C8>\n"
     ]
    }
   ],
   "source": [
    "im=Image.open('book.png')\n",
    "im_shop=add_text_to_image(im,'大器書局')\n",
    "im_shop.save('大器書局.png')"
   ]
  },
  {
   "cell_type": "code",
   "execution_count": 7,
   "metadata": {},
   "outputs": [
    {
     "name": "stdout",
     "output_type": "stream",
     "text": [
      "<PIL.Image.Image image mode=RGBA size=848x1199 at 0x1F81DC564C8>\n"
     ]
    }
   ],
   "source": [
    "im_before = Image.open('ina.png')\n",
    "# im_before.show()  #開啟圖片\n",
    "im_after = add_text_to_image(im_before, 'ina ina ina')\n",
    "im_after.show()\n",
    "im.save('im_after.png')"
   ]
  },
  {
   "cell_type": "code",
   "execution_count": null,
   "metadata": {},
   "outputs": [],
   "source": []
  }
 ],
 "metadata": {
  "kernelspec": {
   "display_name": "Python 3",
   "language": "python",
   "name": "python3"
  },
  "language_info": {
   "codemirror_mode": {
    "name": "ipython",
    "version": 3
   },
   "file_extension": ".py",
   "mimetype": "text/x-python",
   "name": "python",
   "nbconvert_exporter": "python",
   "pygments_lexer": "ipython3",
   "version": "3.8.5"
  }
 },
 "nbformat": 4,
 "nbformat_minor": 4
}
