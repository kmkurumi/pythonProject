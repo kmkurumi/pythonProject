{
 "cells": [
  {
   "cell_type": "code",
   "execution_count": 4,
   "metadata": {},
   "outputs": [
    {
     "name": "stdout",
     "output_type": "stream",
     "text": [
      "https://www.colorhub.me/search?tag=dog&page=1\n",
      "Saved MDQxNzhiMS5qcGVn.jpg\n",
      "Saved MWY5MGI5ZS5qcGc.jpg\n",
      "Saved ODNmNmQ5Yi5qcGc.jpg\n",
      "Saved MGJiYTJmYi5qcGc.jpg\n",
      "Saved MzAyZGQ1YS5qcGc.jpg\n",
      "Saved NDBhZjk5Mi5qcGc.jpg\n",
      "Saved ZDVmY2M0Yi5qcGc.jpg\n",
      "Saved NjA2YTc4ZC5qcGc.jpg\n",
      "Saved M2NlOWI3Ni5qcGc.jpg\n",
      "Saved MGNiODYxZi5qcGVn.jpg\n",
      "Saved ZmVhMmFiOC5qcGc.jpg\n",
      "Saved NjhlNDNiOC5qcGc.jpg\n",
      "Saved NTY3ODZmYy5qcGc.jpg\n",
      "Saved Y2ZhODlkOS5qcGc.jpg\n",
      "Saved YTViYWY1My5qcGc.jpg\n",
      "Saved Y2MyZTZkOC5qcGc.jpg\n",
      "Saved OWZjZDA4MS5qcGc.jpg\n",
      "Saved OWU2ZTUwOS5qcGc.jpg\n",
      "Saved MmQxZTA2ZS5qcGc.jpg\n",
      "Saved NDVhNjBkYy5qcGc.jpg\n",
      "Saved M2M0NDY4MC5qcGc.jpg\n",
      "Saved MDBhNzUxNi5qcGVn.jpg\n",
      "Saved MjU5OWJlYy5qcGc.jpg\n",
      "Saved ODRmODdiOC5qcGc.jpg\n",
      "Saved YTBlOTMyNC5qcGc.jpg\n",
      "Saved NTY1YjliMC5qcGc.jpg\n",
      "Saved OWMyOTZmNC5qcGVn.jpg\n",
      "Saved ODhkNTFhZi5qcGc.jpg\n",
      "Saved NDY0MTdkNC5qcGVn.jpg\n",
      "Saved OGM0M2Y1OS5qcGVn.jpg\n",
      "Saved Mzk4YzU3OS5qcGVn.jpg\n",
      "Saved MmM5Yjk1MC5qcGVn.jpg\n",
      "Saved N2QxZDI1OS5qcGVn.jpg\n",
      "Saved ODdjOGJiMy5qcGVn.jpg\n",
      "Saved MGJmNjZmOS5qcGVn.jpg\n",
      "Saved NmJiZTliMC5qcGVn.jpg\n",
      "end.....................\n"
     ]
    }
   ],
   "source": [
    "from bs4 import BeautifulSoup\n",
    "import requests\n",
    "import re\n",
    "\n",
    "headers = {\n",
    "    \"User-Agent\":\"Mozilla/5.0 (Linux; Android 6.0; Nexus 5 Build/MRA58N) AppleWebKit/537.36 (KHTML, like Gecko) Chrome/81.0.4044.138 Mobile Safari/537.36\"\n",
    "}\n",
    "for i in range(1,2):\n",
    "    url = \"https://www.colorhub.me/search?tag=dog&page=%s\"%(i)\n",
    "    print(url)\n",
    "    res = requests.get(url,headers=headers)\n",
    "    soup = BeautifulSoup(res.content, 'lxml')\n",
    "    href_all = soup.find_all('div',{\"class\":\"card\"})\n",
    "    for href in href_all:\n",
    "        href_url = href.a['href']\n",
    "        html4 = requests.get(href_url,headers=headers).content\n",
    "        soup4 = BeautifulSoup(html4, 'lxml')\n",
    "        img4 = soup4.find('a',{\"data-magnify\":\"gallery\"})\n",
    "        urlimg =\"http:\"+img4['href']\n",
    "        r = requests.get(urlimg, stream=True)\n",
    "        image_name = urlimg.split('/')[-1]\n",
    "        with open('C:/Users/USER/Desktop/colorhub/%s' % image_name, 'wb') as f:\n",
    "            for chunk in r.iter_content(chunk_size=128):\n",
    "                f.write(chunk)\n",
    "        print('Saved %s' % image_name)\n",
    "    print(\"end.....................\") \n"
   ]
  },
  {
   "cell_type": "code",
   "execution_count": null,
   "metadata": {},
   "outputs": [],
   "source": []
  }
 ],
 "metadata": {
  "kernelspec": {
   "display_name": "Python 3",
   "language": "python",
   "name": "python3"
  },
  "language_info": {
   "codemirror_mode": {
    "name": "ipython",
    "version": 3
   },
   "file_extension": ".py",
   "mimetype": "text/x-python",
   "name": "python",
   "nbconvert_exporter": "python",
   "pygments_lexer": "ipython3",
   "version": "3.8.5"
  }
 },
 "nbformat": 4,
 "nbformat_minor": 4
}
