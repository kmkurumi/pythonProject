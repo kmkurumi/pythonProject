{
 "cells": [
  {
   "cell_type": "code",
   "execution_count": 1,
   "metadata": {},
   "outputs": [],
   "source": [
    "from bs4 import BeautifulSoup\n",
    "import requests\n",
    "import os"
   ]
  },
  {
   "cell_type": "code",
   "execution_count": 3,
   "metadata": {},
   "outputs": [
    {
     "name": "stdout",
     "output_type": "stream",
     "text": [
      "請輸入關鍵字:cat\n"
     ]
    }
   ],
   "source": [
    "input_image=input('請輸入關鍵字:')\n",
    "res=requests.get(f'https://unsplash.com/s/photos/{input_image}')\n",
    "soup=BeautifulSoup(res.text,'lxml')\n",
    "\n",
    "results = soup.find_all(\"img\", {\"class\": \"_2UpQX\"}, limit=20)\n",
    "image_links = [result.get(\"src\") for result in results]  # 取得圖片來源連結\n",
    "#print(image_links) #檢視有無讀取到\n",
    "\n",
    "for index, link in enumerate(image_links):\n",
    " \n",
    "    if not os.path.exists(f\"{input_image}-images\"):\n",
    "        os.mkdir(f\"{input_image}-images\")  # 建立資料夾\n",
    " \n",
    "    img = requests.get(link)  # 下載圖片\n",
    "\n",
    " \n",
    "    with open(f\"{input_image}-images/\" + input_image + str(index+1) + \".jpg\", \"wb\") as file:  # 寫入二進位，沒有檔案會自己創，開啟資料夾及命名圖片檔\n",
    "        file.write(img.content)  # 寫入圖片的二進位碼"
   ]
  },
  {
   "cell_type": "code",
   "execution_count": null,
   "metadata": {},
   "outputs": [],
   "source": []
  }
 ],
 "metadata": {
  "kernelspec": {
   "display_name": "Python 3",
   "language": "python",
   "name": "python3"
  },
  "language_info": {
   "codemirror_mode": {
    "name": "ipython",
    "version": 3
   },
   "file_extension": ".py",
   "mimetype": "text/x-python",
   "name": "python",
   "nbconvert_exporter": "python",
   "pygments_lexer": "ipython3",
   "version": "3.7.6"
  }
 },
 "nbformat": 4,
 "nbformat_minor": 4
}
