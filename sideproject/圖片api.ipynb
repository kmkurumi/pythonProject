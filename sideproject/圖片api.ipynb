{
 "cells": [
  {
   "cell_type": "code",
   "execution_count": 1,
   "id": "3854387e",
   "metadata": {},
   "outputs": [],
   "source": [
    "import json, requests"
   ]
  },
  {
   "cell_type": "markdown",
   "id": "55067ad2",
   "metadata": {},
   "source": [
    "# %%1. 韩小韩API\n",
    "\n",
    "url = 'https://api.vvhan.com/api/acgimg'\n",
    "params = {'type': 'json'}\n",
    "res = requests.get(url, params=params).json()\n",
    "print(json.dumps(res, indent=2))\n",
    "\n",
    "\n",
    "# %%2. 樱花API\n",
    "\n",
    "url = 'http://www.dmoe.cc/random.php'\n",
    "params = {'return': 'json'}\n",
    "res = requests.get(url, params=params).json()\n",
    "print(json.dumps(res, indent=2))\n",
    "\n",
    "\n",
    "# %%3. 岁月小筑API\n",
    "\n",
    "url = 'https://img.xjh.me/random_img.php'\n",
    "params = {\n",
    "    'return': 'json',\n",
    "    'type': 'bg',\n",
    "    'cytpe': 'acg'\n",
    "}\n",
    "res = requests.get(url, params=params).json()\n",
    "print(json.dumps(res, indent=2))\n",
    "\n",
    "\n",
    "# %%4. Lucky小站API\n",
    "\n",
    "url = 'https://www.rrll.cc/tuceng/ecy.php'\n",
    "params = {\n",
    "    'return': 'json'\n",
    "}\n",
    "res = requests.get(url, params=params).json()\n",
    "print(json.dumps(res, indent=2))\n",
    "\n",
    "\n",
    "# %%5. 一叶三秋API\n",
    "\n",
    "url = 'https://api.ghser.com/random/api.php'\n",
    "res = requests.get(url)\n",
    "print(res.url)\n",
    "\n",
    "\n",
    "# %%6. 汐岑API\n",
    "\n",
    "url = 'https://acg.yanwz.cn/wallpaper/api.php'\n",
    "res = requests.get(url)\n",
    "with open('test.jpg', 'wb') as f:\n",
    "    f.write(res.content)\n",
    "\n",
    "# %%7. 呓喵酱API\n",
    "\n",
    "url = 'https://api.yimian.xyz/img'\n",
    "params = {\n",
    "    'type': 'moe',\n",
    "    'size': '1920x1080'\n",
    "}\n",
    "res = requests.get(url, params=params)\n",
    "print(res.url)\n"
   ]
  }
 ],
 "metadata": {
  "kernelspec": {
   "display_name": "Python 3",
   "language": "python",
   "name": "python3"
  },
  "language_info": {
   "codemirror_mode": {
    "name": "ipython",
    "version": 3
   },
   "file_extension": ".py",
   "mimetype": "text/x-python",
   "name": "python",
   "nbconvert_exporter": "python",
   "pygments_lexer": "ipython3",
   "version": "3.8.5"
  }
 },
 "nbformat": 4,
 "nbformat_minor": 5
}
