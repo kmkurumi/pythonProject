{
 "cells": [
  {
   "cell_type": "code",
   "execution_count": 1,
   "metadata": {},
   "outputs": [],
   "source": [
    "import xlwings as xw\n",
    "import os"
   ]
  },
  {
   "cell_type": "code",
   "execution_count": 2,
   "metadata": {},
   "outputs": [],
   "source": [
    "wb=xw.Book(r'C:\\Users\\USER\\Desktop\\蝦皮貨品上架 -書.xlsm')\n",
    "sht=wb.sheets[0]"
   ]
  },
  {
   "cell_type": "code",
   "execution_count": 3,
   "metadata": {
    "scrolled": true
   },
   "outputs": [],
   "source": [
    "def use_pic():\n",
    "    classification=[]\n",
    "    name=[]\n",
    "    image=os.listdir(r'C:\\Users\\USER\\Desktop\\精誠書局 test')\n",
    "    for images in image:\n",
    "        #images.replace('.jpg','')\n",
    "        #print(images)\n",
    "        name.append(images.replace('.jpg',''))  \n",
    "        classification.append(24584)\n",
    "    return classification,name"
   ]
  },
  {
   "cell_type": "code",
   "execution_count": 4,
   "metadata": {},
   "outputs": [],
   "source": [
    "def change_sheetname():\n",
    "    sht.name='大器書局上架'\n",
    "def input_classification(classification):\n",
    "    sht.range('a7').options(transpose=True).value = classification  #將產品編號放到a7之後\n",
    "def input_name(name):\n",
    "    sht.range('b7').options(transpose=True).value = name  #將產品名稱放到b7之後"
   ]
  },
  {
   "cell_type": "code",
   "execution_count": 5,
   "metadata": {},
   "outputs": [
    {
     "name": "stdout",
     "output_type": "stream",
     "text": [
      "字型名稱: Arial\n",
      "字型大小: 10.0\n",
      "字型是否加粗: False\n",
      "字型顏色: 0.0\n",
      "字型型別 斜體\n",
      "格子顏色 (242, 242, 242)\n"
     ]
    }
   ],
   "source": [
    "print('字型名稱:',sht.range('a2').api.Font.Name)  #大小寫皆可\n",
    "print('字型大小:',sht.range('a2').api.Font.Size)\n",
    "print('字型是否加粗:',sht.range('a2').api.Font.Bold)\n",
    "print('字型顏色:',sht.range('a2').api.Font.color)\n",
    "print('字型型別',sht.range('a2').api.Font.FontStyle)\n",
    "print('格子顏色',sht.range('a2').color)"
   ]
  },
  {
   "cell_type": "code",
   "execution_count": 6,
   "metadata": {},
   "outputs": [],
   "source": [
    "#sht.range('a2').api.Font.Name="
   ]
  },
  {
   "cell_type": "code",
   "execution_count": 7,
   "metadata": {},
   "outputs": [],
   "source": [
    "use_pic()\n",
    "change_sheetname()\n",
    "input_classification(use_pic())\n",
    "input_name(use_pic())"
   ]
  },
  {
   "cell_type": "code",
   "execution_count": null,
   "metadata": {},
   "outputs": [],
   "source": []
  }
 ],
 "metadata": {
  "kernelspec": {
   "display_name": "Python 3",
   "language": "python",
   "name": "python3"
  },
  "language_info": {
   "codemirror_mode": {
    "name": "ipython",
    "version": 3
   },
   "file_extension": ".py",
   "mimetype": "text/x-python",
   "name": "python",
   "nbconvert_exporter": "python",
   "pygments_lexer": "ipython3",
   "version": "3.8.5"
  }
 },
 "nbformat": 4,
 "nbformat_minor": 4
}
