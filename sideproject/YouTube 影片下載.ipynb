{
 "cells": [
  {
   "cell_type": "code",
   "execution_count": 1,
   "metadata": {},
   "outputs": [
    {
     "ename": "ModuleNotFoundError",
     "evalue": "No module named 'pytube'",
     "output_type": "error",
     "traceback": [
      "\u001b[1;31m---------------------------------------------------------------------------\u001b[0m",
      "\u001b[1;31mModuleNotFoundError\u001b[0m                       Traceback (most recent call last)",
      "\u001b[1;32m<ipython-input-1-d769eb0df2ff>\u001b[0m in \u001b[0;36m<module>\u001b[1;34m\u001b[0m\n\u001b[1;32m----> 1\u001b[1;33m \u001b[1;32mfrom\u001b[0m \u001b[0mpytube\u001b[0m \u001b[1;32mimport\u001b[0m \u001b[0mYouTube\u001b[0m\u001b[1;33m\u001b[0m\u001b[1;33m\u001b[0m\u001b[0m\n\u001b[0m\u001b[0;32m      2\u001b[0m \u001b[1;32mfrom\u001b[0m \u001b[0mmoviepy\u001b[0m\u001b[1;33m.\u001b[0m\u001b[0meditor\u001b[0m \u001b[1;32mimport\u001b[0m \u001b[1;33m*\u001b[0m  \u001b[1;31m#from moviepy.editor import VideoFileClip/TextClip\u001b[0m\u001b[1;33m\u001b[0m\u001b[1;33m\u001b[0m\u001b[0m\n\u001b[0;32m      3\u001b[0m \u001b[1;32mimport\u001b[0m \u001b[0mos\u001b[0m\u001b[1;33m\u001b[0m\u001b[1;33m\u001b[0m\u001b[0m\n\u001b[0;32m      4\u001b[0m \u001b[1;32mimport\u001b[0m \u001b[0msubprocess\u001b[0m\u001b[1;33m\u001b[0m\u001b[1;33m\u001b[0m\u001b[0m\n\u001b[0;32m      5\u001b[0m \u001b[1;32mimport\u001b[0m \u001b[0mplatform\u001b[0m\u001b[1;33m\u001b[0m\u001b[1;33m\u001b[0m\u001b[0m\n",
      "\u001b[1;31mModuleNotFoundError\u001b[0m: No module named 'pytube'"
     ]
    }
   ],
   "source": [
    "from pytube import YouTube\n",
    "from moviepy.editor import *  #from moviepy.editor import VideoFileClip/TextClip \n",
    "import os\n",
    "import subprocess\n",
    "import platform\n",
    "import argparse"
   ]
  },
  {
   "cell_type": "code",
   "execution_count": 2,
   "metadata": {},
   "outputs": [],
   "source": [
    "#FFMPEG_BINARY = os.getenv('FFMPEG_BINARY', 'ffmpeg-imageio')\n",
    "#IMAGEMAGICK_BINARY = os.getenv('IMAGEMAGICK_BINARY', 'C:\\\\Program Files\\\\ImageMagick-7.0.10-Q16\\\\magick.exe')"
   ]
  },
  {
   "cell_type": "code",
   "execution_count": 3,
   "metadata": {},
   "outputs": [],
   "source": [
    "def downloading_mp4_highest_resolution():\n",
    "    url=input('請輸入影片網址:')\n",
    "    YouTube(url).streams.filter(progressive=True).get_highest_resolution().download(r'C:\\Users\\USER\\Desktop\\影片')"
   ]
  },
  {
   "cell_type": "code",
   "execution_count": 4,
   "metadata": {},
   "outputs": [],
   "source": [
    "def downloading_mp4():\n",
    "    url=input('請輸入影片網址:')\n",
    "    YouTube(url).streams.filter(file_extension='mp4', res='1080p').first().download(r'C:\\Users\\USER\\Desktop\\影片')\n",
    "    print()"
   ]
  },
  {
   "cell_type": "code",
   "execution_count": 5,
   "metadata": {},
   "outputs": [],
   "source": [
    "def downloading_mp3():\n",
    "    url=input('請輸入影片網址:')\n",
    "    YouTube(url).streams.filter(file_extension='mp3').first().download(r'C:\\Users\\USER\\Desktop\\mp3')"
   ]
  },
  {
   "cell_type": "code",
   "execution_count": 6,
   "metadata": {},
   "outputs": [
    {
     "name": "stdout",
     "output_type": "stream",
     "text": [
      "請輸入影片網址:https://www.youtube.com/watch?v=_ktQQpNPYc0&list=RD_ktQQpNPYc0&start_radio=1\n",
      "\n"
     ]
    }
   ],
   "source": [
    "downloading_mp4()"
   ]
  },
  {
   "cell_type": "code",
   "execution_count": 18,
   "metadata": {},
   "outputs": [],
   "source": [
    "fileobj = {}\n",
    "download_count = 1\n",
    "#檢查影片檔是否包含聲音\n",
    "def check_media(filename):\n",
    "    r = subprocess.Popen([\".\\\\bin\\\\ffprobe\", filename],\n",
    "                         stdout=subprocess.PIPE, stderr=subprocess.STDOUT)\n",
    "    out, err = r.communicate()\n",
    "\n",
    "    if (out.decode('utf-8').find('Audio') == -1):\n",
    "        return -1  # 沒有聲音\n",
    "    else:\n",
    "        return 1"
   ]
  },
  {
   "cell_type": "code",
   "execution_count": null,
   "metadata": {},
   "outputs": [],
   "source": [
    "clip=VideoFileClip(\"鯊皇獻歌『空色デイズ 』【HoloEN／Gawr Gura／Sings／中日羅字幕】.mp4\")\n",
    "clip=clip.subclip(90,100)  #時間軸\n",
    "clip=clip.volumex(0.8)\n",
    "\n",
    "print('請輸入文字')\n",
    "text=input()\n",
    "font=\"標楷體\"\n",
    "txt_clip = TextClip(text,fontsize=70,color='white',font=font)\n",
    "txt_clip = txt_clip.set_pos('center','top').set_duration(10)  #horizontally centered, and at the top of the picture\n",
    "video = CompositeVideoClip([clip,txt_clip])\n",
    "video.write_videofile(\"鯊皇獻歌『空色デイズ 』\")"
   ]
  },
  {
   "cell_type": "code",
   "execution_count": null,
   "metadata": {},
   "outputs": [],
   "source": [
    "#用影片做gif\n",
    "clip=VideoFileClip(\"鯊皇獻歌『空色デイズ 』【HoloEN／Gawr Gura／Sings／中日羅字幕】.mp4\")\n",
    "subclip=clip.subclip(10,15.5)  #時間軸\n",
    "subclip=subclip.resize(0.5)  #*0.5倍,or(360,640)、width=800(height computed automatically)\n",
    "subclip.write_gif(\"鯊皇獻歌『空色デイズ 』.gif\")"
   ]
  },
  {
   "cell_type": "code",
   "execution_count": null,
   "metadata": {},
   "outputs": [],
   "source": [
    "#用圖片做gif\n",
    "import glob\n",
    "import cv2\n"
   ]
  },
  {
   "cell_type": "code",
   "execution_count": null,
   "metadata": {},
   "outputs": [],
   "source": []
  }
 ],
 "metadata": {
  "kernelspec": {
   "display_name": "Python 3",
   "language": "python",
   "name": "python3"
  },
  "language_info": {
   "codemirror_mode": {
    "name": "ipython",
    "version": 3
   },
   "file_extension": ".py",
   "mimetype": "text/x-python",
   "name": "python",
   "nbconvert_exporter": "python",
   "pygments_lexer": "ipython3",
   "version": "3.8.5"
  }
 },
 "nbformat": 4,
 "nbformat_minor": 4
}
